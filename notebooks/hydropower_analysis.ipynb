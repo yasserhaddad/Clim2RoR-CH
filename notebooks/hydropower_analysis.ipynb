{
 "cells": [
  {
   "cell_type": "code",
   "execution_count": null,
   "id": "1f15d26d-2b6e-438e-9d20-3801ed7ad973",
   "metadata": {
    "tags": []
   },
   "outputs": [],
   "source": [
    "%load_ext autoreload\n",
    "%autoreload 2"
   ]
  },
  {
   "cell_type": "code",
   "execution_count": null,
   "id": "22c0d891-30a5-4817-a951-7ff93e007557",
   "metadata": {
    "tags": []
   },
   "outputs": [],
   "source": [
    "import json\n",
    "import os\n",
    "import sys\n",
    "from pathlib import Path\n",
    "\n",
    "import numpy as np\n",
    "import pandas as pd\n",
    "import xarray as xr\n",
    "\n",
    "os.environ[\"USE_PYGEOS\"] = \"0\"\n",
    "import geopandas as gpd\n",
    "\n",
    "sys.path.append(\"..\")\n",
    "sys.path.append(\"../..\")\n",
    "from src.paper_analysis_hydropower import (\n",
    "    NationalAnalysisHydropower,\n",
    "    plot_pre_post_bias_correction_validation,\n",
    ")"
   ]
  },
  {
   "cell_type": "code",
   "execution_count": null,
   "id": "23f233a8-be31-4057-ab7e-08b581fa36ce",
   "metadata": {},
   "outputs": [],
   "source": [
    "cm = 1 / 2.54"
   ]
  },
  {
   "cell_type": "code",
   "execution_count": null,
   "id": "a68b2ae7-c622-4046-a31d-5afc194bcb0f",
   "metadata": {},
   "outputs": [],
   "source": [
    "paths = json.load(open(\"../paths.json\"))\n",
    "\n",
    "path_data = Path(paths[\"path_data\"])\n",
    "\n",
    "path_data_hydro = path_data / \"hydropower\"\n",
    "path_data_polygons = path_data / \"polygons\"\n",
    "path_swiss_maps = path_data / \"maps\" / \"swissboundaries3d_2023-01_2056_5728/\"\n",
    "\n",
    "path_figs = Path(paths[\"path_figs\"])"
   ]
  },
  {
   "cell_type": "code",
   "execution_count": null,
   "id": "1f1f64a6-d7d5-41cb-88cf-b799b25c9d29",
   "metadata": {
    "tags": []
   },
   "outputs": [],
   "source": [
    "gdf_switzerland = gpd.read_file(\n",
    "    path_swiss_maps / \"swissBOUNDARIES3D_1_4_TLM_LANDESGEBIET.shp\"\n",
    ").to_crs(\"EPSG:2056\")\n",
    "\n",
    "## Load BAFU polygons\n",
    "gdf_polygons = gpd.read_file(path_data_polygons / \"EZG_Gewaesser.gpkg\")\n",
    "\n",
    "## Load collocated hydropower locations and BAFU polygons\n",
    "df_hydropower_polygons = pd.read_json(\n",
    "    path_data_hydro / \"hydropower_polygons\" / \"df_hydropower_polygons.json\",\n",
    "    orient=\"records\",\n",
    ")\n",
    "gdf_hydropower_polygons = gpd.GeoDataFrame(\n",
    "    df_hydropower_polygons,\n",
    "    geometry=gpd.points_from_xy(\n",
    "        df_hydropower_polygons[\"_x\"], df_hydropower_polygons[\"_y\"]\n",
    "    ),\n",
    "    crs=\"EPSG:2056\",\n",
    ")\n",
    "\n",
    "## Load hydropower characteristics\n",
    "df_wasta = pd.read_excel(\n",
    "    path_data_hydro / \"stats_hydropower_ch\" / \"wasta_2023_updated.xlsx\"\n",
    ")\n",
    "\n",
    "## Load hydropower production (with simplified efficiency and with/without beta coefficient)\n",
    "ds_hydropower_generation = xr.open_dataset(\n",
    "    path_data_hydro\n",
    "    / \"hydropower_generation\"\n",
    "    / \"ds_prevah_500_hydropower_production_ror_simplified_efficiency.nc\"\n",
    ")\n",
    "ds_hydropower_generation_beta = xr.open_dataset(\n",
    "    path_data_hydro\n",
    "    / \"hydropower_generation\"\n",
    "    / \"ds_prevah_500_hydropower_production_ror_simplified_efficiency_with_beta.nc\"\n",
    ")\n",
    "ds_hydropower_generation_merged = xr.merge(\n",
    "    [\n",
    "        ds_hydropower_generation.rename({\"gen\": \"hp_no_beta\"}),\n",
    "        ds_hydropower_generation_beta.rename({\"gen\": \"hp_with_beta\"}),\n",
    "    ]\n",
    ").load()\n",
    "\n",
    "df_hydropower_production_params = pd.read_csv(\n",
    "    path_data_hydro\n",
    "    / \"hydropower_generation\"\n",
    "    / \"ds_prevah_500_hydropower_production_parameters.csv\"\n",
    ")\n",
    "df_hydropower_production_params.loc[\n",
    "    df_hydropower_production_params[\"Expected yearly generation\"] == 0,\n",
    "    \"Expected yearly generation\",\n",
    "] = df_hydropower_production_params[\n",
    "    df_hydropower_production_params[\"Expected yearly generation\"] == 0\n",
    "].apply(lambda row: round(row[\"Capacity\"] * 365 * 24 * 1e-6, 2), axis=1)\n",
    "\n",
    "## Load historical Swiss electricity generation data\n",
    "df_historical_data = pd.read_csv(\n",
    "    path_data / \"energy\" / \"ogd35_schweizerische_elektrizitaetsbilanz_monatswerte.csv\"\n",
    ")"
   ]
  },
  {
   "cell_type": "markdown",
   "id": "991cf496-ddd0-4b90-87bc-a169e0128ac0",
   "metadata": {},
   "source": [
    "# Analyse data (without monthly bias correction)"
   ]
  },
  {
   "cell_type": "code",
   "execution_count": null,
   "id": "5f1738df-02df-4a76-a845-e04be79dd05a",
   "metadata": {},
   "outputs": [],
   "source": [
    "national_analysis_pre_correction = NationalAnalysisHydropower(\n",
    "    gdf_switzerland,\n",
    "    gdf_hydropower_polygons,\n",
    "    df_wasta,\n",
    "    ds_hydropower_generation_merged,\n",
    "    df_hydropower_production_params,\n",
    "    df_historical_data[\n",
    "        [\n",
    "            \"Jahr\",\n",
    "            \"Monat\",\n",
    "            \"Erzeugung_laufwerk_GWh\",\n",
    "            \"Erzeugung_speicherwerk_GWh\",\n",
    "            \"Verbrauch_speicherpumpen_GWh\",\n",
    "        ]\n",
    "    ],\n",
    "    path_figs,\n",
    ")"
   ]
  },
  {
   "cell_type": "code",
   "execution_count": null,
   "id": "807ca081-8912-4069-9075-f1b2c871e3cc",
   "metadata": {},
   "outputs": [],
   "source": [
    "national_analysis_pre_correction.aggregate_yearly_estimated_generation(\n",
    "    with_percentage=False\n",
    ")\n",
    "national_analysis_pre_correction.aggregate_yearly_estimated_generation_with_operation_start(\n",
    "    with_percentage=False\n",
    ")\n",
    "national_analysis_pre_correction.aggregate_yearly_estimated_generation_per_hp()\n",
    "national_analysis_pre_correction.aggregate_yearly_estimated_generation_per_hp(\n",
    "    reference_period=slice(\"1991\", \"2020\")\n",
    ")"
   ]
  },
  {
   "cell_type": "code",
   "execution_count": null,
   "id": "7811f4bd-8f4d-4904-94b8-c6aa420ba094",
   "metadata": {},
   "outputs": [],
   "source": [
    "national_analysis_pre_correction.aggregate_seasonal_estimated_generation(\n",
    "    with_operation_start=False\n",
    ")\n",
    "national_analysis_pre_correction.aggregate_seasonal_estimated_generation(\n",
    "    with_operation_start=True\n",
    ")\n",
    "national_analysis_pre_correction.aggregate_seasonal_estimated_generation(\n",
    "    with_operation_start=False, per_hydropower=True\n",
    ")\n",
    "national_analysis_pre_correction.aggregate_reference_seasonal_estimated_generation()"
   ]
  },
  {
   "cell_type": "markdown",
   "id": "2025b884-67f3-4bf8-a20d-270741a35443",
   "metadata": {},
   "source": [
    "# Analyse data (with monthly bias correction)"
   ]
  },
  {
   "cell_type": "code",
   "execution_count": null,
   "id": "0c768cd9-b787-4411-a987-59ba4e3d92f5",
   "metadata": {},
   "outputs": [],
   "source": [
    "ds_monthly_bias_correction_factors = xr.open_dataset(\n",
    "    path_data_hydro\n",
    "    / \"hydropower_generation\"\n",
    "    / \"ds_prevah_500_hydropower_production_ror_simplified_efficiency_monthly_bias_correction_factors.nc\"\n",
    ").bias_correction_factor.load()"
   ]
  },
  {
   "cell_type": "code",
   "execution_count": null,
   "id": "c611e9f9-2bdd-4f39-94df-da4764d81cea",
   "metadata": {},
   "outputs": [],
   "source": [
    "national_analysis = NationalAnalysisHydropower(\n",
    "    gdf_switzerland,\n",
    "    gdf_hydropower_polygons,\n",
    "    df_wasta,\n",
    "    ds_hydropower_generation_merged * ds_monthly_bias_correction_factors,\n",
    "    df_hydropower_production_params,\n",
    "    df_historical_data[\n",
    "        [\n",
    "            \"Jahr\",\n",
    "            \"Monat\",\n",
    "            \"Erzeugung_laufwerk_GWh\",\n",
    "            \"Erzeugung_speicherwerk_GWh\",\n",
    "            \"Verbrauch_speicherpumpen_GWh\",\n",
    "        ]\n",
    "    ],\n",
    "    path_figs,\n",
    ")"
   ]
  },
  {
   "cell_type": "code",
   "execution_count": null,
   "id": "b5e92c02-7d69-441a-9dab-e1e364f4cd11",
   "metadata": {},
   "outputs": [],
   "source": [
    "national_analysis.aggregate_yearly_estimated_generation(with_percentage=False)\n",
    "national_analysis.aggregate_yearly_estimated_generation_with_operation_start(\n",
    "    with_percentage=False\n",
    ")\n",
    "national_analysis.aggregate_yearly_estimated_generation_per_hp()\n",
    "national_analysis.aggregate_yearly_estimated_generation_per_hp(\n",
    "    reference_period=slice(\"1991\", \"2020\")\n",
    ")"
   ]
  },
  {
   "cell_type": "code",
   "execution_count": null,
   "id": "891a34d3-c3c3-4fb4-89c3-388e4ff0916b",
   "metadata": {},
   "outputs": [],
   "source": [
    "national_analysis.aggregate_seasonal_estimated_generation(with_operation_start=False)\n",
    "national_analysis.aggregate_seasonal_estimated_generation(with_operation_start=True)\n",
    "national_analysis.aggregate_seasonal_estimated_generation(\n",
    "    with_operation_start=False, per_hydropower=True\n",
    ")\n",
    "national_analysis.aggregate_reference_seasonal_estimated_generation()"
   ]
  },
  {
   "cell_type": "markdown",
   "id": "5a4ed7a2-5aed-4815-9893-969aab41783e",
   "metadata": {},
   "source": [
    "# Paper plots"
   ]
  },
  {
   "cell_type": "markdown",
   "id": "dfda2f13-ebd7-47ed-b9de-f39fe64cc622",
   "metadata": {},
   "source": [
    "## Fig 2"
   ]
  },
  {
   "cell_type": "code",
   "execution_count": null,
   "id": "c05e7ab2-a263-4eb2-8c92-9861bf0571ee",
   "metadata": {},
   "outputs": [],
   "source": [
    "plot_pre_post_bias_correction_validation(\n",
    "    national_analysis_pre_correction,\n",
    "    national_analysis,\n",
    "    with_percentage=False,\n",
    "    yearly_column_to_plot=\"Estimated Generation No Beta\",\n",
    "    winter_column_to_plot=\"Estimated Generation No Beta Winter\",\n",
    "    summer_column_to_plot=\"Estimated Generation No Beta Summer\",\n",
    "    subplots_titles=[\"Yearly\", \"Winter\", \"Summer\"],\n",
    "    start_yaxis_at_zero=True,\n",
    "    save=True,\n",
    "    output_filename=\"fig_2_bis.pdf\",\n",
    "    file_format=\"pdf\",\n",
    ")"
   ]
  },
  {
   "cell_type": "markdown",
   "id": "32e28938-3fa3-4a53-8506-2e3d27fb873b",
   "metadata": {},
   "source": [
    "## Fig 3"
   ]
  },
  {
   "cell_type": "code",
   "execution_count": null,
   "id": "c10b3e04-c115-4cff-9669-c2eff91a61b8",
   "metadata": {},
   "outputs": [],
   "source": [
    "national_analysis.plot_quantile_maps(\n",
    "    yearly=True,\n",
    "    variable_name=\"hp_no_beta\",\n",
    "    save=True,\n",
    "    with_operation_start=True,\n",
    "    with_decade_visualization=True,\n",
    "    output_filename=\"fig_3.eps\",\n",
    "    file_format=\"eps\",\n",
    ")"
   ]
  },
  {
   "cell_type": "code",
   "execution_count": null,
   "id": "1e07ed24",
   "metadata": {},
   "outputs": [],
   "source": [
    "national_analysis.plot_quantile_maps(\n",
    "    yearly=True,\n",
    "    variable_name=\"hp_no_beta\",\n",
    "    nb_plots_rows=5,\n",
    "    save=True,\n",
    "    with_operation_start=True,\n",
    "    with_decade_visualization=False,\n",
    "    output_filename=\"fig_3_bis.eps\",\n",
    "    file_format=\"eps\",\n",
    ")"
   ]
  },
  {
   "cell_type": "code",
   "execution_count": null,
   "id": "5492d006",
   "metadata": {},
   "outputs": [],
   "source": [
    "national_analysis.plot_quantile_maps_selected_years(\n",
    "    yearly=True,\n",
    "    variable_name=\"hp_no_beta\",\n",
    "    save=True,\n",
    "    output_filename=\"poster_fig_3.pdf\",\n",
    "    years=[1999, 2003, 2018, 2022],\n",
    "    nb_cols=2,\n",
    "    nb_rows=2,\n",
    ")"
   ]
  },
  {
   "cell_type": "markdown",
   "id": "84b99792-c7c2-4334-b698-05faf7943840",
   "metadata": {},
   "source": [
    "## Fig 4"
   ]
  },
  {
   "cell_type": "code",
   "execution_count": null,
   "id": "a3fb1a77-ffe3-4b79-bfa6-f35eba94a307",
   "metadata": {},
   "outputs": [],
   "source": [
    "national_analysis.plot_trend_analysis(\n",
    "    with_percentage=False,\n",
    "    yearly_column_to_plot=\"Estimated Generation No Beta\",\n",
    "    winter_column_to_plot=\"Estimated Generation No Beta Winter\",\n",
    "    summer_column_to_plot=\"Estimated Generation No Beta Summer\",\n",
    "    subplots_titles=[\"Yearly\", \"Winter\", \"Summer\"],\n",
    "    save=True,\n",
    "    output_filename=\"fig_4_bis.pdf\",\n",
    "    file_format=\"pdf\",\n",
    ")"
   ]
  },
  {
   "cell_type": "code",
   "execution_count": null,
   "id": "bbda745a",
   "metadata": {},
   "outputs": [],
   "source": [
    "ror_capacity_expansion_since_1991 = national_analysis.gdf_hydropower_locations.loc[\n",
    "    (\n",
    "        national_analysis.gdf_hydropower_locations[\"BeginningOfOperation\"] > 1991\n",
    "    ) & (\n",
    "        national_analysis.gdf_hydropower_locations[\"Type\"] == \"L\"\n",
    "    )\n",
    "]\n",
    "\n",
    "print(\n",
    "    f\"{len(ror_capacity_expansion_since_1991)} RoR hydropower plants have been built since 1991\"\n",
    ")\n",
    "\n",
    "print(\n",
    "    f'''The capacity of RoR hydropower in Switzerland has increased from 1991 by {\n",
    "        round(ror_capacity_expansion_since_1991['Capacity'].sum(), 2)\n",
    "    } GW'''\n",
    ")"
   ]
  },
  {
   "cell_type": "markdown",
   "id": "22f108d7-aaa2-48b4-a744-0f9aca9482f4",
   "metadata": {},
   "source": [
    "## Metrics"
   ]
  },
  {
   "cell_type": "markdown",
   "id": "a73df213",
   "metadata": {},
   "source": [
    "### Bias"
   ]
  },
  {
   "cell_type": "code",
   "execution_count": null,
   "id": "1da23d96",
   "metadata": {},
   "outputs": [],
   "source": [
    "national_analysis_pre_correction.compute_pred_bias()"
   ]
  },
  {
   "cell_type": "code",
   "execution_count": null,
   "id": "60d11dc6",
   "metadata": {},
   "outputs": [],
   "source": [
    "national_analysis_pre_correction.compute_pred_bias(percentage_bias=True)"
   ]
  },
  {
   "cell_type": "code",
   "execution_count": null,
   "id": "86ea929b",
   "metadata": {},
   "outputs": [],
   "source": [
    "national_analysis_pre_correction.compute_pred_bias(yearly=False)"
   ]
  },
  {
   "cell_type": "code",
   "execution_count": null,
   "id": "e5558479",
   "metadata": {},
   "outputs": [],
   "source": [
    "national_analysis_pre_correction.compute_pred_bias(yearly=False, percentage_bias=True)"
   ]
  },
  {
   "cell_type": "code",
   "execution_count": null,
   "id": "e3d69090",
   "metadata": {},
   "outputs": [],
   "source": [
    "national_analysis.compute_pred_bias()"
   ]
  },
  {
   "cell_type": "code",
   "execution_count": null,
   "id": "989e2b22",
   "metadata": {},
   "outputs": [],
   "source": [
    "national_analysis.compute_pred_bias(yearly=False)"
   ]
  },
  {
   "cell_type": "markdown",
   "id": "c82154e8",
   "metadata": {},
   "source": [
    "### Variability Metrics"
   ]
  },
  {
   "cell_type": "markdown",
   "id": "6ae7dac1",
   "metadata": {},
   "source": [
    "#### Biased"
   ]
  },
  {
   "cell_type": "code",
   "execution_count": null,
   "id": "d0c1e0f7",
   "metadata": {},
   "outputs": [],
   "source": [
    "std_deviation_pre_correction_yearly = national_analysis_pre_correction.std_deviation(\n",
    "    confidence_interval=True, confidence_level=0.95\n",
    ")\n",
    "std_deviation_pre_correction_yearly"
   ]
  },
  {
   "cell_type": "code",
   "execution_count": null,
   "id": "661a452a",
   "metadata": {},
   "outputs": [],
   "source": [
    "std_deviation_pre_correction_seasonal = national_analysis_pre_correction.std_deviation(\n",
    "    yearly=False, confidence_interval=True, confidence_level=0.95\n",
    ")\n",
    "std_deviation_pre_correction_seasonal"
   ]
  },
  {
   "cell_type": "markdown",
   "id": "800b2d5c",
   "metadata": {},
   "source": [
    "#### Bias-corrected"
   ]
  },
  {
   "cell_type": "code",
   "execution_count": null,
   "id": "30457389-d588-42e2-8d34-5f569f76fbc1",
   "metadata": {},
   "outputs": [],
   "source": [
    "std_deviation_yearly = national_analysis.std_deviation(\n",
    "    confidence_interval=True, confidence_level=0.95\n",
    ")\n",
    "std_deviation_yearly"
   ]
  },
  {
   "cell_type": "code",
   "execution_count": null,
   "id": "ad156a6b",
   "metadata": {},
   "outputs": [],
   "source": [
    "std_deviation_seasonal = national_analysis.std_deviation(\n",
    "    yearly=False, confidence_interval=True, confidence_level=0.95\n",
    ")\n",
    "std_deviation_seasonal"
   ]
  },
  {
   "cell_type": "code",
   "execution_count": null,
   "id": "cbfd06b7",
   "metadata": {},
   "outputs": [],
   "source": [
    "national_analysis.test_equality_of_variance(yearly=True)"
   ]
  },
  {
   "cell_type": "markdown",
   "id": "ef17102b",
   "metadata": {},
   "source": [
    "### Trends in data"
   ]
  },
  {
   "cell_type": "code",
   "execution_count": null,
   "id": "833be0ac",
   "metadata": {},
   "outputs": [],
   "source": [
    "df_hydropower_yearly = (\n",
    "    national_analysis.create_dataframe_yearly_values(\n",
    "        with_operation_start=True, with_percentage=False\n",
    "    )\n",
    "    .merge(\n",
    "        national_analysis.create_dataframe_yearly_values(\n",
    "            with_operation_start=False, with_percentage=False\n",
    "        ),\n",
    "        left_index=True,\n",
    "        right_index=True,\n",
    "        suffixes=(\"\", \"_fixed_system_2022\"),\n",
    "    )\n",
    "    .merge(\n",
    "        national_analysis.create_dataframe_yearly_values(\n",
    "            with_operation_start=False,\n",
    "            with_percentage=False,\n",
    "            with_first_year_infrastructure=True,\n",
    "        ),\n",
    "        left_index=True,\n",
    "        right_index=True,\n",
    "        suffixes=(\"\", \"_fixed_system_1991\"),\n",
    "    )\n",
    ")"
   ]
  },
  {
   "cell_type": "code",
   "execution_count": null,
   "id": "b5ea2325",
   "metadata": {},
   "outputs": [],
   "source": [
    "df_trends_yearly = national_analysis.compute_hydropower_generation_different_capacities_trend_slopes(\n",
    "    \"Estimated Generation No Beta\", df_hydropower_yearly\n",
    ")\n",
    "df_trends_yearly"
   ]
  },
  {
   "cell_type": "code",
   "execution_count": null,
   "id": "47458fbb",
   "metadata": {},
   "outputs": [],
   "source": [
    "-0.042 * 32, -0.088 * 32, 0.003 * 32"
   ]
  },
  {
   "cell_type": "code",
   "execution_count": null,
   "id": "72e4c30e",
   "metadata": {},
   "outputs": [],
   "source": [
    "trend_percentage_evolving_capacities = round((df_trends_yearly.set_index(\"name\").loc[\"Evolving capacities\", \"coef\"] / df_hydropower_yearly[\"Estimated Generation No Beta\"].mean()) * 100, 3)\n",
    "trend_percentage_1991_capacities = round((df_trends_yearly.set_index(\"name\").loc[\"1991 capacities\", \"coef\"] / df_hydropower_yearly[\"Estimated Generation No Beta_fixed_system_1991\"].mean()) * 100, 3)\n",
    "\n",
    "print(\"The trend of hydropower generation with evolving capacities is \"\n",
    "      f\"{trend_percentage_evolving_capacities} % per year.\")\n",
    "print(\"The trend of hydropower generation with 1991 capacities is \"\n",
    "      f\"{trend_percentage_1991_capacities} % per year.\")"
   ]
  },
  {
   "cell_type": "code",
   "execution_count": null,
   "id": "0ccfa61b",
   "metadata": {},
   "outputs": [],
   "source": [
    "# Total generation loss over time period 1991-2022 with fixed system 1991\n",
    "len(df_hydropower_yearly) * df_trends_yearly.set_index(\"name\").loc[\"1991 capacities\", [\"coef\", \"lower\", \"upper\"]]"
   ]
  },
  {
   "cell_type": "code",
   "execution_count": null,
   "id": "8a2b20b3",
   "metadata": {},
   "outputs": [],
   "source": [
    "(len(df_hydropower_yearly) * df_trends_yearly.set_index(\"name\").loc[\"1991 capacities\", [\"coef\", \"lower\", \"upper\"]] / df_hydropower_yearly[\"Estimated Generation No Beta_fixed_system_1991\"].sum()) * 100"
   ]
  },
  {
   "cell_type": "code",
   "execution_count": null,
   "id": "c4bf3a77",
   "metadata": {},
   "outputs": [],
   "source": [
    "df_hydropower_seasonal = (\n",
    "    national_analysis.create_dataframe_seasonal_values(\n",
    "        with_operation_start=True, with_percentage=False\n",
    "    )\n",
    "    .merge(\n",
    "        national_analysis.create_dataframe_seasonal_values(\n",
    "            with_operation_start=False, with_percentage=False\n",
    "        ),\n",
    "        left_index=True,\n",
    "        right_index=True,\n",
    "        suffixes=(\"\", \"_fixed_system_2022\"),\n",
    "    )\n",
    "    .merge(\n",
    "        national_analysis.create_dataframe_seasonal_values(\n",
    "            with_operation_start=False,\n",
    "            with_percentage=False,\n",
    "            with_first_year_infrastructure=True,\n",
    "        ),\n",
    "        left_index=True,\n",
    "        right_index=True,\n",
    "        suffixes=(\"\", \"_fixed_system_1991\"),\n",
    "    )\n",
    ")"
   ]
  },
  {
   "cell_type": "code",
   "execution_count": null,
   "id": "ab6fec91",
   "metadata": {},
   "outputs": [],
   "source": [
    "national_analysis.compute_hydropower_generation_different_capacities_trend_slopes(\n",
    "    \"Estimated Generation No Beta Summer\", df_hydropower_seasonal\n",
    ")"
   ]
  },
  {
   "cell_type": "code",
   "execution_count": null,
   "id": "58177c6a",
   "metadata": {},
   "outputs": [],
   "source": [
    "national_analysis.compute_hydropower_generation_different_capacities_trend_slopes(\n",
    "    \"Estimated Generation No Beta Winter\", df_hydropower_seasonal\n",
    ")"
   ]
  },
  {
   "cell_type": "markdown",
   "id": "990eacb5",
   "metadata": {},
   "source": [
    "#### Signal to noise ratio"
   ]
  },
  {
   "cell_type": "code",
   "execution_count": null,
   "id": "d98e8af3",
   "metadata": {},
   "outputs": [],
   "source": [
    "coef, _, _, conf_interval, residuals = national_analysis.compute_trend_statsmodel(\n",
    "    np.arange(len(df_hydropower_yearly)).reshape(-1, 1),\n",
    "    df_hydropower_yearly[\"Estimated Generation No Beta\"].values,\n",
    ")\n",
    "snr = np.round(coef * len(df_hydropower_yearly) / np.std(residuals, ddof=1), 3)\n",
    "print(f\"SNR of the long term change in the time series with evolving capacities: {snr}\")"
   ]
  },
  {
   "cell_type": "code",
   "execution_count": null,
   "id": "8b8e554e",
   "metadata": {},
   "outputs": [],
   "source": [
    "coef, _, _, conf_interval, residuals = national_analysis.compute_trend_statsmodel(\n",
    "    np.arange(len(df_hydropower_yearly)).reshape(-1, 1),\n",
    "    df_hydropower_yearly[\"Estimated Generation No Beta_fixed_system_1991\"].values,\n",
    "    alpha=0.05,\n",
    ")\n",
    "snr = np.round(coef * len(df_hydropower_yearly) / np.std(residuals, ddof=1), 3)\n",
    "print(\n",
    "    f\"SNR of the long term change in the time series with fixed capcities (1991): {snr}\"\n",
    ")"
   ]
  },
  {
   "cell_type": "markdown",
   "id": "fcd934b4",
   "metadata": {},
   "source": [
    "### Contextualization of avoided losses "
   ]
  },
  {
   "cell_type": "code",
   "execution_count": null,
   "id": "21f0449e",
   "metadata": {},
   "outputs": [],
   "source": [
    "total_net_generation_ch = (\n",
    "    (\n",
    "        df_historical_data[df_historical_data[\"Jahr\"] < 2023]\n",
    "        .groupby(\"Jahr\")\n",
    "        .agg(sum)[\"Erzeugung_netto_GWh\"]\n",
    "    )\n",
    "    * 1e-3\n",
    ")\n",
    "\n",
    "additional_generation = round(\n",
    "    df_hydropower_yearly[\"Estimated Generation No Beta\"]\n",
    "    - df_hydropower_yearly[\"Estimated Generation No Beta_fixed_system_1991\"],\n",
    "    2,\n",
    ")\n",
    "\n",
    "print(\n",
    "    f\"\"\"\n",
    "      The implicit mitigation in RoR hydropower generation allowed to avoid {additional_generation.loc[2022]} TWh in losses,\n",
    "      or {round(additional_generation.loc[2022] / total_net_generation_ch.loc[2022] * 100, 2)} % of the total net generation in Switzerland in 2022.\n",
    "      \"\"\"\n",
    ")"
   ]
  },
  {
   "cell_type": "markdown",
   "id": "fd02ed17-7dd3-4fdb-ad7b-36eff94a7080",
   "metadata": {},
   "source": [
    "# Supplementary material"
   ]
  },
  {
   "cell_type": "markdown",
   "id": "028ef470-2aee-4fed-ba17-5c2801182167",
   "metadata": {},
   "source": [
    "## Sup Fig 1 - Run-of-river hydropower in Switzerland"
   ]
  },
  {
   "cell_type": "code",
   "execution_count": null,
   "id": "06cfe068-d75f-46fb-8f4b-5dcb72b707c6",
   "metadata": {},
   "outputs": [],
   "source": [
    "national_analysis.plot_ror_map_capacities_hist(\n",
    "    save=True, output_filename=\"sup_fig_1.pdf\", file_format=\"pdf\"\n",
    ")"
   ]
  },
  {
   "cell_type": "code",
   "execution_count": null,
   "id": "166c1918-3e1e-4b12-8608-939a41351d97",
   "metadata": {},
   "outputs": [],
   "source": [
    "ror_capacity_ch = national_analysis.gdf_hydropower_locations.loc[\n",
    "    (\n",
    "        national_analysis.gdf_hydropower_locations[\"WASTANumber\"].isin(\n",
    "            national_analysis.ds_hydropower_generation.hydropower.values\n",
    "        )\n",
    "    ),\n",
    "    \"Capacity\",\n",
    "].sum()\n",
    "\n",
    "print(\n",
    "    f\"The capacity of RoR hydropower in Switzerland is currently {ror_capacity_ch} GW\"\n",
    ")"
   ]
  },
  {
   "cell_type": "code",
   "execution_count": null,
   "id": "870b60a7-cec1-4872-8d81-449343cd9144",
   "metadata": {},
   "outputs": [],
   "source": [
    "national_analysis.gdf_hydropower_locations.loc[\n",
    "    (\n",
    "        national_analysis.gdf_hydropower_locations[\"WASTANumber\"].isin(\n",
    "            national_analysis.ds_hydropower_generation.hydropower.values\n",
    "        )\n",
    "    ),\n",
    "    \"Capacity\",\n",
    "].describe()"
   ]
  },
  {
   "cell_type": "code",
   "execution_count": null,
   "id": "98b3d850-7c23-41ea-87e1-454745bbd07f",
   "metadata": {},
   "outputs": [],
   "source": [
    "ror_capacity_90th_percentile = national_analysis.gdf_hydropower_locations.loc[\n",
    "    (\n",
    "        national_analysis.gdf_hydropower_locations[\"WASTANumber\"].isin(\n",
    "            national_analysis.ds_hydropower_generation.hydropower.values\n",
    "        )\n",
    "    ),\n",
    "    \"Capacity\",\n",
    "].quantile(0.9)\n",
    "\n",
    "ror_capacity_fraction_90th_percentile_and_above = (\n",
    "    national_analysis.gdf_hydropower_locations.loc[\n",
    "        (\n",
    "            national_analysis.gdf_hydropower_locations[\"WASTANumber\"].isin(\n",
    "                national_analysis.ds_hydropower_generation.hydropower.values\n",
    "            )\n",
    "        )\n",
    "        & (\n",
    "            national_analysis.gdf_hydropower_locations[\"Capacity\"]\n",
    "            >= ror_capacity_90th_percentile\n",
    "        ),\n",
    "        \"Capacity\",\n",
    "    ].sum()\n",
    "    / ror_capacity_ch\n",
    ")\n",
    "\n",
    "print(\n",
    "    f\"The RoR hydropower plants in Switzerland with capacities equal or above the 90th percentile constitute {round(ror_capacity_fraction_90th_percentile_and_above * 100, 2)}% of the total RoR capacity\"\n",
    ")"
   ]
  },
  {
   "cell_type": "code",
   "execution_count": null,
   "id": "4aaa58a2",
   "metadata": {},
   "outputs": [],
   "source": [
    "national_analysis.gdf_hydropower_locations"
   ]
  },
  {
   "cell_type": "markdown",
   "id": "25bcf982-3f35-47cd-bbd5-8946fa4a6302",
   "metadata": {},
   "source": [
    "## Sup Fig 2 - RoR hydropower high production years"
   ]
  },
  {
   "cell_type": "markdown",
   "id": "f2590dd6-ee71-4ddb-b8ba-b375b874d468",
   "metadata": {},
   "source": [
    "The **total number of high production years of hydropower plants (quantile >= 0.9) per decade** is decreasing, even with an expanding infrastructure."
   ]
  },
  {
   "cell_type": "code",
   "execution_count": null,
   "id": "9c81cdb3-8734-41ea-a623-059b2dfb2d7b",
   "metadata": {},
   "outputs": [],
   "source": [
    "national_analysis.plot_hist_prod_quantile_threshold_per_decade(\n",
    "    yearly=True,\n",
    "    variable_name=\"hp_no_beta\",\n",
    "    quantile_threshold=0.9,\n",
    "    higher_than=True,\n",
    "    with_operation_start=True,\n",
    "    output_filename=\"sup_fig_2.pdf\",\n",
    "    save=True,\n",
    "    file_format=\"pdf\",\n",
    ")"
   ]
  },
  {
   "cell_type": "markdown",
   "id": "a7e1ec60-0416-46b9-897e-9ed71a164fff",
   "metadata": {},
   "source": [
    "## Sup Fig 3 & 4 - RoR hydropower generation trends"
   ]
  },
  {
   "cell_type": "code",
   "execution_count": null,
   "id": "5c4ea2a4-dfd8-4d3b-a84f-49246618e907",
   "metadata": {},
   "outputs": [],
   "source": [
    "national_analysis.plot_trend_analysis_per_month(\n",
    "    variable_name=\"hp_no_beta\",\n",
    "    save=True,\n",
    "    output_filename=\"sup_fig_3.pdf\",\n",
    "    file_format=\"pdf\",\n",
    ")"
   ]
  },
  {
   "cell_type": "code",
   "execution_count": null,
   "id": "cf0b503f-4599-4f2d-bb31-825d4030ffcf",
   "metadata": {},
   "outputs": [],
   "source": [
    "national_analysis.plot_winter_trend_map_and_distribution(\n",
    "    variable_name=\"hp_no_beta_winter\",\n",
    "    save=True,\n",
    "    output_filename=\"sup_fig_4.pdf\",\n",
    "    file_format=\"pdf\",\n",
    ")"
   ]
  },
  {
   "cell_type": "code",
   "execution_count": null,
   "id": "f2843ecb-49dd-49fd-a7e8-8e2940bf3b07",
   "metadata": {},
   "outputs": [],
   "source": []
  }
 ],
 "metadata": {
  "kernelspec": {
   "display_name": "Python 3",
   "language": "python",
   "name": "python3"
  },
  "language_info": {
   "codemirror_mode": {
    "name": "ipython",
    "version": 3
   },
   "file_extension": ".py",
   "mimetype": "text/x-python",
   "name": "python",
   "nbconvert_exporter": "python",
   "pygments_lexer": "ipython3",
   "version": "3.11.4"
  }
 },
 "nbformat": 4,
 "nbformat_minor": 5
}
