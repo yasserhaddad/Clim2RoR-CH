{
 "cells": [
  {
   "cell_type": "code",
   "execution_count": null,
   "id": "833d45d8-af18-4732-a8d2-d4558c2a7460",
   "metadata": {},
   "outputs": [],
   "source": [
    "%load_ext autoreload\n",
    "%autoreload 2"
   ]
  },
  {
   "cell_type": "code",
   "execution_count": null,
   "id": "e05f800c-8178-4f18-8b85-b3a54368c807",
   "metadata": {},
   "outputs": [],
   "source": [
    "import sys\n",
    "sys.path.append(\"..\")\n",
    "sys.path.append(\"../..\")\n",
    "\n",
    "\n",
    "import pandas as pd\n",
    "from typing import Dict, List\n",
    "from pathlib import Path\n",
    "import matplotlib.pyplot as plt\n",
    "import matplotlib.dates as mdates\n",
    "import matplotlib.ticker as ticker\n",
    "import seaborn as sns\n",
    "import numpy as np\n",
    "import json\n",
    "\n",
    "sns.set_style(\"whitegrid\", {\"grid.color\": \".93\"})\n",
    "\n",
    "from src.paper_analysis_hydropower import NationalAnalysisHydropower"
   ]
  },
  {
   "cell_type": "code",
   "execution_count": null,
   "id": "830f1b06-8732-4f4c-a141-7ed8976daae3",
   "metadata": {},
   "outputs": [],
   "source": [
    "paths = json.load(open(\"../paths.json\"))\n",
    "\n",
    "path_data_nexuse_simulations = Path(paths[\"path_data_nexuse_simulations\"])\n",
    "path_figs = Path(paths[\"path_figs\"])"
   ]
  },
  {
   "cell_type": "code",
   "execution_count": null,
   "id": "7fd84d00-d659-45da-a8bd-ffb29c6305b0",
   "metadata": {
    "tags": []
   },
   "outputs": [],
   "source": [
    "date_range_2050_hourly = pd.date_range(\"2050-01-01\", \"2051-01-01\", freq=\"1H\", inclusive=\"left\")"
   ]
  },
  {
   "cell_type": "code",
   "execution_count": null,
   "id": "ba7f022c-aecf-451c-aae8-17fb364553e3",
   "metadata": {},
   "outputs": [],
   "source": [
    "cm = 1/2.54"
   ]
  },
  {
   "cell_type": "code",
   "execution_count": null,
   "id": "1e2a7dfb-dc7d-4fb8-a1b5-3bea89dbf246",
   "metadata": {},
   "outputs": [],
   "source": [
    "paths_simulations_ref_renewable = sorted(list((path_data_nexuse_simulations / \"centiv_v47_ref_renewable_target\").glob(\"*\")))\n",
    "simulation_ref_renewable_names = ([int(path.stem.split(\"_\")[-1]) for path in paths_simulations_ref_renewable])\n",
    "\n",
    "paths_simulations_high_renewable = sorted(list((path_data_nexuse_simulations / \"centiv_v47_high_renewable_target\").glob(\"*\")))\n",
    "simulation_high_renewable_names = ([int(path.stem.split(\"_\")[-1]) for path in paths_simulations_high_renewable])"
   ]
  },
  {
   "cell_type": "markdown",
   "id": "87cf62c0-81de-49c9-80bc-9c99dbdcd250",
   "metadata": {},
   "source": [
    "# Load data"
   ]
  },
  {
   "cell_type": "markdown",
   "id": "a448a9b0-a01a-4020-92ff-714eeadacb0e",
   "metadata": {},
   "source": [
    "## Total capacity in 2050"
   ]
  },
  {
   "cell_type": "code",
   "execution_count": null,
   "id": "70228781-878d-4578-9035-e22ff78156c4",
   "metadata": {
    "tags": []
   },
   "outputs": [],
   "source": [
    "dfs_cap_ref_renewable = [pd.read_csv(path / \"resultPostProcess\" / \"Cap_CH_centiv_distiv.csv\", index_col=0)[[\"2050\"]] \n",
    "                        for path in paths_simulations_ref_renewable]\n",
    "\n",
    "dfs_cap_high_renewable = [pd.read_csv(path / \"resultPostProcess\" / \"Cap_CH_centiv_distiv.csv\", index_col=0)[[\"2050\"]] \n",
    "                           for path in paths_simulations_high_renewable]"
   ]
  },
  {
   "cell_type": "code",
   "execution_count": null,
   "id": "c501381a-bf1e-4869-af1c-1c76f45f7415",
   "metadata": {},
   "outputs": [],
   "source": [
    "df_cap_ref_renewable = pd.concat(dfs_cap_ref_renewable, axis=1)\n",
    "df_cap_ref_renewable.columns = simulation_ref_renewable_names\n",
    "df_cap_ref_renewable.head()"
   ]
  },
  {
   "cell_type": "code",
   "execution_count": null,
   "id": "e33e7dec-712f-4008-86d8-015309799bb7",
   "metadata": {},
   "outputs": [],
   "source": [
    "df_cap_high_renewable = pd.concat(dfs_cap_high_renewable, axis=1)\n",
    "df_cap_high_renewable.columns = simulation_high_renewable_names\n",
    "df_cap_high_renewable.head()"
   ]
  },
  {
   "cell_type": "markdown",
   "id": "24598838-8c32-4541-b726-b23503339abf",
   "metadata": {},
   "source": [
    "## Total generation in 2050"
   ]
  },
  {
   "cell_type": "code",
   "execution_count": null,
   "id": "ef560e91-49e6-4756-8478-14874be85fa0",
   "metadata": {
    "tags": []
   },
   "outputs": [],
   "source": [
    "dfs_gens_ref_renewable = []\n",
    "for path in paths_simulations_ref_renewable:\n",
    "    df_gens_ref_renewable = pd.read_csv(path / \"resultPostProcess\" / \"Gen_CH_2050_c.csv\", index_col=0) \n",
    "    df_gens_ref_renewable.index = date_range_2050_hourly\n",
    "    dfs_gens_ref_renewable.append(df_gens_ref_renewable)\n",
    "\n",
    "dfs_gens_high_renewable = []\n",
    "for path in paths_simulations_high_renewable:\n",
    "    df_gens_high_renewable = pd.read_csv(path / \"resultPostProcess\" / \"Gen_CH_2050_c.csv\", index_col=0) \n",
    "    df_gens_high_renewable.index = date_range_2050_hourly\n",
    "    dfs_gens_high_renewable.append(df_gens_high_renewable)"
   ]
  },
  {
   "cell_type": "code",
   "execution_count": null,
   "id": "359a7e4a-e9fc-45c7-a75a-f1f1eb7a3199",
   "metadata": {},
   "outputs": [],
   "source": [
    "df_gen_ref_renewable = pd.concat(dfs_gens_ref_renewable, axis=1, keys=simulation_ref_renewable_names)\n",
    "df_gen_high_renewable = pd.concat(dfs_gens_high_renewable, axis=1, keys=simulation_high_renewable_names)"
   ]
  },
  {
   "cell_type": "code",
   "execution_count": null,
   "id": "02a5d2c9-8b85-413b-8e15-e95e803f3c2c",
   "metadata": {},
   "outputs": [],
   "source": [
    "df_gen_ref_renewable.head()"
   ]
  },
  {
   "cell_type": "code",
   "execution_count": null,
   "id": "66ee4a45-6f1d-4119-9dd0-2f9a30689d80",
   "metadata": {},
   "outputs": [],
   "source": [
    "df_annual_ror_gen_ref_renewable = df_gen_ref_renewable.loc[:, (slice(None), \"RoR\")].sum().droplevel(1)\n",
    "df_annual_imports_ref_renewable = df_gen_ref_renewable.loc[:, (slice(None), \"Imports\")].sum().droplevel(1)\n",
    "df_annual_exports_ref_renewable = df_gen_ref_renewable.loc[:, (slice(None), \"Exports\")].sum().droplevel(1)"
   ]
  },
  {
   "cell_type": "code",
   "execution_count": null,
   "id": "2464018c-070b-46b1-8e53-fc176677f89d",
   "metadata": {},
   "outputs": [],
   "source": [
    "df_annual_ror_gen_high_renewable = df_gen_high_renewable.loc[:, (slice(None), \"RoR\")].sum().droplevel(1)\n",
    "df_annual_imports_high_renewable = df_gen_high_renewable.loc[:, (slice(None), \"Imports\")].sum().droplevel(1)\n",
    "df_annual_exports_high_renewable = df_gen_high_renewable.loc[:, (slice(None), \"Exports\")].sum().droplevel(1)"
   ]
  },
  {
   "cell_type": "code",
   "execution_count": null,
   "id": "1fe2eea5-1724-4086-8f98-eaf98c1a2559",
   "metadata": {},
   "outputs": [],
   "source": [
    "df_monthly_ror_gen_ref_renewable = df_gen_ref_renewable.loc[:, (slice(None), \"RoR\")].groupby(pd.Grouper(freq=\"M\")).sum().droplevel(1, axis=1)\n",
    "df_monthly_ror_gen_ref_renewable.index = pd.date_range(\"2050-01-01\", \"2051-01-01\", freq=\"M\", inclusive=\"left\").strftime(\"%b\")\n",
    "\n",
    "df_monthly_ror_gen_high_renewable = df_gen_high_renewable.loc[:, (slice(None), \"RoR\")].groupby(pd.Grouper(freq=\"M\")).sum().droplevel(1, axis=1)\n",
    "df_monthly_ror_gen_high_renewable.index = pd.date_range(\"2050-01-01\", \"2051-01-01\", freq=\"M\", inclusive=\"left\").strftime(\"%b\")"
   ]
  },
  {
   "cell_type": "code",
   "execution_count": null,
   "id": "89862558-cefe-4ebe-96d4-dd724d1ca96f",
   "metadata": {},
   "outputs": [],
   "source": [
    "winter_months = [1, 2, 3, 10, 11, 12]\n",
    "\n",
    "df_monthly_imports_ref_renewable = df_gen_ref_renewable.loc[:, (slice(None), \"Imports\")].groupby(pd.Grouper(freq='M')).sum().droplevel(1, axis=1)\n",
    "df_monthly_exports_ref_renewable = df_gen_ref_renewable.loc[:, (slice(None), \"Exports\")].groupby(pd.Grouper(freq='M')).sum().droplevel(1, axis=1)\n",
    "\n",
    "df_winter_imports_ref_renewable = df_monthly_imports_ref_renewable[df_monthly_imports_ref_renewable.index.month.isin(winter_months)].sum(axis=0)\n",
    "df_winter_exports_ref_renewable = df_monthly_exports_ref_renewable[df_monthly_exports_ref_renewable.index.month.isin(winter_months)].sum(axis=0)"
   ]
  },
  {
   "cell_type": "code",
   "execution_count": null,
   "id": "d124718b-accd-412b-98b0-f9db290653b3",
   "metadata": {},
   "outputs": [],
   "source": [
    "df_monthly_imports_high_renewable = df_gen_high_renewable.loc[:, (slice(None), \"Imports\")].groupby(pd.Grouper(freq='M')).sum().droplevel(1, axis=1)\n",
    "df_monthly_exports_high_renewable = df_gen_high_renewable.loc[:, (slice(None), \"Exports\")].groupby(pd.Grouper(freq='M')).sum().droplevel(1, axis=1)\n",
    "\n",
    "df_winter_imports_high_renewable = df_monthly_imports_high_renewable[df_monthly_imports_high_renewable.index.month.isin(winter_months)].sum(axis=0)\n",
    "df_winter_exports_high_renewable = df_monthly_exports_high_renewable[df_monthly_exports_high_renewable.index.month.isin(winter_months)].sum(axis=0)"
   ]
  },
  {
   "cell_type": "code",
   "execution_count": null,
   "id": "3b9d4cb0-5825-41b3-93cd-37101acb5035",
   "metadata": {},
   "outputs": [],
   "source": [
    "df_pumped_storage_ref_renewable = df_gen_ref_renewable.loc[:, (slice(None), df_gen_ref_renewable.columns.get_level_values(1).str.startswith(\"Pump-Open\"))].groupby(pd.Grouper(freq='M')).sum() * 1e-3\n",
    "df_pumped_storage_high_renewable = df_gen_high_renewable.loc[:, (slice(None), df_gen_high_renewable.columns.get_level_values(1).str.startswith(\"Pump-Open\"))].groupby(pd.Grouper(freq='M')).sum() * 1e-3"
   ]
  },
  {
   "cell_type": "code",
   "execution_count": null,
   "id": "58c19eb7-9998-42e2-930a-c7229ba055a6",
   "metadata": {},
   "outputs": [],
   "source": [
    "df_annual_wind_ref_renewable = df_gen_ref_renewable.loc[:, (slice(None), \"Wind-Total\")].sum().droplevel(1)\n",
    "df_annual_wind_high_renewable = df_gen_high_renewable.loc[:, (slice(None), \"Wind-Total\")].sum().droplevel(1)"
   ]
  },
  {
   "cell_type": "code",
   "execution_count": null,
   "id": "fae2451b-24cb-4a5a-b3dc-702fcad44f8c",
   "metadata": {},
   "outputs": [],
   "source": [
    "df_annual_net_generation_ref_renewable = df_gen_ref_renewable.groupby(pd.Grouper(freq='Y')).sum().groupby(level=0, axis=1).sum().sum()\n",
    "df_annual_net_generation_high_renewable = df_gen_high_renewable.groupby(pd.Grouper(freq='Y')).sum().groupby(level=0, axis=1).sum().sum()"
   ]
  },
  {
   "cell_type": "code",
   "execution_count": null,
   "id": "3987af37-6375-4656-b7be-fed6f019b3d2",
   "metadata": {},
   "outputs": [],
   "source": [
    "df_annual_domestic_generation_ref_renewable = df_gen_ref_renewable.loc[:, (slice(None), slice(\"Dam\", \"Pump-Closed\"))].groupby(pd.Grouper(freq='Y')).sum().groupby(level=0, axis=1).sum().sum()\n",
    "df_annual_domestic_generation_high_renewable = df_gen_high_renewable.loc[:, (slice(None), slice(\"Dam\", \"Pump-Closed\"))].groupby(pd.Grouper(freq='Y')).sum().groupby(level=0, axis=1).sum().sum()"
   ]
  },
  {
   "cell_type": "markdown",
   "id": "e232464b-ce3f-4df7-aada-92cd4279fc3f",
   "metadata": {
    "jp-MarkdownHeadingCollapsed": true
   },
   "source": [
    "## Electricity prices"
   ]
  },
  {
   "cell_type": "markdown",
   "id": "af9bf320-b364-46f1-9af5-81db886c2453",
   "metadata": {},
   "source": [
    "### Annual"
   ]
  },
  {
   "cell_type": "code",
   "execution_count": null,
   "id": "5d0e545a-af23-4dc3-b7bc-87a2c76ef609",
   "metadata": {
    "tags": []
   },
   "outputs": [],
   "source": [
    "dfs_elec_price_ref_renewable = []\n",
    "\n",
    "for path in paths_simulations_ref_renewable:\n",
    "    path_file = list((path / \"resultPostProcess\").glob(\"**/national_elecprice_annual_c.csv\"))[0]\n",
    "    df_elec_price_ref_renewable = pd.read_csv(path_file, index_col=0) \n",
    "    dfs_elec_price_ref_renewable.append(df_elec_price_ref_renewable)\n",
    "\n",
    "dfs_elec_price_high_renewable = []\n",
    "\n",
    "for path in paths_simulations_high_renewable:\n",
    "    path_file = list((path / \"resultPostProcess\").glob(\"**/national_elecprice_annual_c.csv\"))[0]\n",
    "    df_elec_price_high_renewable = pd.read_csv(path_file, index_col=0) \n",
    "    dfs_elec_price_high_renewable.append(df_elec_price_high_renewable)"
   ]
  },
  {
   "cell_type": "code",
   "execution_count": null,
   "id": "cefc7a02-404f-461f-a967-4c7941f7ba75",
   "metadata": {},
   "outputs": [],
   "source": [
    "df_elec_price_ref_renewable = pd.concat(dfs_elec_price_ref_renewable, axis=1)\n",
    "df_elec_price_ref_renewable.columns = simulation_ref_renewable_names\n",
    "df_elec_price_ref_renewable.head()"
   ]
  },
  {
   "cell_type": "code",
   "execution_count": null,
   "id": "369ab51c-9c1b-4065-8101-9e7183e2207e",
   "metadata": {},
   "outputs": [],
   "source": [
    "df_elec_price_high_renewable = pd.concat(dfs_elec_price_high_renewable, axis=1)\n",
    "df_elec_price_high_renewable.columns = simulation_high_renewable_names\n",
    "df_elec_price_high_renewable.head()"
   ]
  },
  {
   "cell_type": "markdown",
   "id": "9ab56a65-cb69-4a96-bfa5-f20ce4850fd1",
   "metadata": {
    "jp-MarkdownHeadingCollapsed": true
   },
   "source": [
    "### Monthly"
   ]
  },
  {
   "cell_type": "code",
   "execution_count": null,
   "id": "47017647-36ee-4a66-ad2d-06ce53013ccf",
   "metadata": {},
   "outputs": [],
   "source": [
    "dfs_elec_price_monthly_ref_renewable = []\n",
    "\n",
    "for path in paths_simulations_ref_renewable:\n",
    "    path_file = list((path / \"resultPostProcess\").glob(\"**/national_elecprice_monthly_c_2050.csv\"))[0]\n",
    "    df_elec_price_monthly_ref_renewable = pd.read_csv(path_file, index_col=0)[\"Switzerland\"] \n",
    "    dfs_elec_price_monthly_ref_renewable.append(df_elec_price_monthly_ref_renewable)\n",
    "\n",
    "dfs_elec_price_monthly_high_renewable = []\n",
    "\n",
    "for path in paths_simulations_high_renewable:\n",
    "    path_file = list((path / \"resultPostProcess\").glob(\"**/national_elecprice_monthly_c_2050.csv\"))[0]\n",
    "    df_elec_price_monthly_high_renewable = pd.read_csv(path_file, index_col=0)[\"Switzerland\"] \n",
    "    dfs_elec_price_monthly_high_renewable.append(df_elec_price_monthly_high_renewable)"
   ]
  },
  {
   "cell_type": "code",
   "execution_count": null,
   "id": "0db252a4-30fd-42dd-be90-ca5cc2169e74",
   "metadata": {},
   "outputs": [],
   "source": [
    "df_elec_price_monthly_ref_renewable = pd.concat(dfs_elec_price_monthly_ref_renewable, axis=1)\n",
    "df_elec_price_monthly_ref_renewable.columns = simulation_ref_renewable_names\n",
    "df_elec_price_monthly_ref_renewable.head()"
   ]
  },
  {
   "cell_type": "code",
   "execution_count": null,
   "id": "6dabdf5f-8615-4b03-ae70-ec7e36187717",
   "metadata": {},
   "outputs": [],
   "source": [
    "df_elec_price_monthly_high_renewable = pd.concat(dfs_elec_price_monthly_high_renewable, axis=1)\n",
    "df_elec_price_monthly_high_renewable.columns = simulation_high_renewable_names\n",
    "df_elec_price_monthly_high_renewable.head()"
   ]
  },
  {
   "cell_type": "code",
   "execution_count": null,
   "id": "8eb351c7-dd9d-473a-b4f8-93354ff2f97b",
   "metadata": {},
   "outputs": [],
   "source": [
    "dfs_elec_price_monthly_ref_renewable_all = []\n",
    "\n",
    "for path in paths_simulations_ref_renewable:\n",
    "    path_file = list((path / \"resultPostProcess\").glob(\"**/national_elecprice_monthly_c_2050.csv\"))[0]\n",
    "    df_elec_price_monthly_ref_renewable_all = pd.read_csv(path_file, index_col=0)\n",
    "    dfs_elec_price_monthly_ref_renewable_all.append(df_elec_price_monthly_ref_renewable_all)\n",
    "\n",
    "df_elec_price_monthly_ref_renewable_all = (pd.concat(dfs_elec_price_monthly_ref_renewable_all, \n",
    "                                                   axis=1, keys=simulation_ref_renewable_names)\n",
    "                                          .swaplevel(0, 1, axis=1)\n",
    "                                          .sort_index(axis=1, level=0))\n",
    "\n",
    "dfs_elec_price_monthly_high_renewable_all = []\n",
    "\n",
    "for path in paths_simulations_high_renewable:\n",
    "    path_file = list((path / \"resultPostProcess\").glob(\"**/national_elecprice_monthly_c_2050.csv\"))[0]\n",
    "    df_elec_price_monthly_high_renewable_all = pd.read_csv(path_file, index_col=0)\n",
    "    dfs_elec_price_monthly_high_renewable_all.append(df_elec_price_monthly_high_renewable_all)\n",
    "\n",
    "df_elec_price_monthly_high_renewable_all = (pd.concat(dfs_elec_price_monthly_high_renewable_all, \n",
    "                                                      axis=1, keys=simulation_high_renewable_names)\n",
    "                                             .swaplevel(0, 1, axis=1)\n",
    "                                             .sort_index(axis=1, level=0))"
   ]
  },
  {
   "cell_type": "markdown",
   "id": "e851a13d-89f9-4fbd-8b12-836deea48983",
   "metadata": {
    "jp-MarkdownHeadingCollapsed": true
   },
   "source": [
    "### Seasonal"
   ]
  },
  {
   "cell_type": "code",
   "execution_count": null,
   "id": "6fcc6d43-6d40-442c-a575-fdea05cfa182",
   "metadata": {},
   "outputs": [],
   "source": [
    "df_elec_price_summer_winter_high_renewable = df_elec_price_monthly_high_renewable.copy()\n",
    "df_elec_price_summer_winter_high_renewable.index = [\"Winter\" if i < 4 or i > 9 else \"Summer\" for i in range(1, 13)]\n",
    "df_elec_price_summer_winter_high_renewable = df_elec_price_summer_winter_high_renewable.groupby(df_elec_price_summer_winter_high_renewable.index).agg(\"mean\")\n",
    "\n",
    "df_elec_price_summer_winter_ref_renewable = df_elec_price_monthly_ref_renewable.copy()\n",
    "df_elec_price_summer_winter_ref_renewable.index = [\"Winter\" if i < 4 or i > 9 else \"Summer\" for i in range(1, 13)]\n",
    "df_elec_price_summer_winter_ref_renewable = df_elec_price_summer_winter_ref_renewable.groupby(df_elec_price_summer_winter_ref_renewable.index).agg(\"mean\")"
   ]
  },
  {
   "cell_type": "code",
   "execution_count": null,
   "id": "43e61f47-b722-48e6-bc53-c67a8a520e8f",
   "metadata": {},
   "outputs": [],
   "source": [
    "seasons = {\"DJF\": [12, 1, 2], \"MAM\": [3, 4, 5], \"JJA\": [6, 7, 8], \"SON\": [9, 10, 11]}\n",
    "seasons = {i: season for season in seasons for i in seasons[season]}\n",
    "\n",
    "df_elec_price_seasonal_high_renewable = df_elec_price_monthly_high_renewable.copy()\n",
    "df_elec_price_seasonal_high_renewable.index = [seasons[i] for i in range(1, 13)]\n",
    "df_elec_price_seasonal_high_renewable = df_elec_price_seasonal_high_renewable.groupby(df_elec_price_seasonal_high_renewable.index).agg(\"mean\")\n",
    "df_elec_price_seasonal_high_renewable = df_elec_price_seasonal_high_renewable.loc[[\"DJF\", \"MAM\", \"JJA\", \"SON\"]]\n",
    "\n",
    "\n",
    "df_elec_price_seasonal_ref_renewable = df_elec_price_monthly_ref_renewable.copy()\n",
    "df_elec_price_seasonal_ref_renewable.index = [seasons[i] for i in range(1, 13)]\n",
    "df_elec_price_seasonal_ref_renewable = df_elec_price_seasonal_ref_renewable.groupby(df_elec_price_seasonal_ref_renewable.index).agg(\"mean\")\n",
    "df_elec_price_seasonal_ref_renewable = df_elec_price_seasonal_ref_renewable.loc[[\"DJF\", \"MAM\", \"JJA\", \"SON\"]]"
   ]
  },
  {
   "cell_type": "code",
   "execution_count": null,
   "id": "82ba08f0-6060-45b6-8ef9-da87afd714dd",
   "metadata": {
    "scrolled": true
   },
   "outputs": [],
   "source": [
    "df_elec_price_seasonal_ref_renewable"
   ]
  },
  {
   "cell_type": "markdown",
   "id": "d8fc211e-065c-449b-9ade-7294c09a6494",
   "metadata": {
    "jp-MarkdownHeadingCollapsed": true
   },
   "source": [
    "## Imports/Exports prices"
   ]
  },
  {
   "cell_type": "code",
   "execution_count": null,
   "id": "5257ed6c-7f07-49ca-bbbe-a37cd4f011d0",
   "metadata": {},
   "outputs": [],
   "source": [
    "dfs_elec_price_hourly_ref_renewable = []\n",
    "\n",
    "for path in paths_simulations_ref_renewable:\n",
    "    path_file = list((path / \"resultPostProcess\").glob(\"**/national_elecprice_hourly_c_2050.csv\"))[0]\n",
    "    df_elec_price_hourly_ref_renewable = pd.read_csv(path_file, index_col=0)[\"Switzerland\"] \n",
    "    dfs_elec_price_hourly_ref_renewable.append(df_elec_price_hourly_ref_renewable)\n",
    "\n",
    "dfs_elec_price_hourly_high_renewable = []\n",
    "\n",
    "for path in paths_simulations_high_renewable:\n",
    "    path_file = list((path / \"resultPostProcess\").glob(\"**/national_elecprice_hourly_c_2050.csv\"))[0]\n",
    "    df_elec_price_hourly_high_renewable = pd.read_csv(path_file, index_col=0)[\"Switzerland\"] \n",
    "    dfs_elec_price_hourly_high_renewable.append(df_elec_price_hourly_high_renewable)"
   ]
  },
  {
   "cell_type": "code",
   "execution_count": null,
   "id": "d375a328-5126-4759-a578-27f768a3112d",
   "metadata": {},
   "outputs": [],
   "source": [
    "df_elec_price_hourly_ref_renewable = pd.concat(dfs_elec_price_hourly_ref_renewable, axis=1)\n",
    "df_elec_price_hourly_ref_renewable.columns = simulation_ref_renewable_names\n",
    "df_elec_price_hourly_ref_renewable.head()"
   ]
  },
  {
   "cell_type": "code",
   "execution_count": null,
   "id": "86cc87b9-167b-4bf4-8916-18473e26a54c",
   "metadata": {},
   "outputs": [],
   "source": [
    "df_elec_price_hourly_high_renewable = pd.concat(dfs_elec_price_hourly_high_renewable, axis=1)\n",
    "df_elec_price_hourly_high_renewable.columns = simulation_high_renewable_names\n",
    "df_elec_price_hourly_high_renewable.head()"
   ]
  },
  {
   "cell_type": "code",
   "execution_count": null,
   "id": "36dc0a4f-d14e-4fbc-b263-24a07c57bfad",
   "metadata": {},
   "outputs": [],
   "source": [
    "df_ratio_imports_elecprice_ref_renewable = (df_gen_ref_renewable.loc[:, (slice(None), \"Imports\")].droplevel(1, axis=1) / df_elec_price_hourly_ref_renewable.set_index(df_gen_ref_renewable.index)).replace([np.inf, -np.inf], np.nan)\n",
    "df_ratio_exports_elecprice_ref_renewable = ((-df_gen_ref_renewable.loc[:, (slice(None), \"Exports\")]).droplevel(1, axis=1) / df_elec_price_hourly_ref_renewable.set_index(df_gen_ref_renewable.index)).replace([np.inf, -np.inf], np.nan)\n",
    "\n",
    "df_monthly_mean_ratio_imports_elecprice_ref_renewable = df_ratio_imports_elecprice_ref_renewable.groupby(pd.Grouper(freq='M')).agg(lambda x: x.dropna().mean())\n",
    "df_monthly_mean_ratio_exports_elecprice_ref_renewable = df_ratio_exports_elecprice_ref_renewable.groupby(pd.Grouper(freq='M')).agg(lambda x: x.dropna().mean())"
   ]
  },
  {
   "cell_type": "code",
   "execution_count": null,
   "id": "291903b6-c678-45e5-9525-a661b4ec9676",
   "metadata": {},
   "outputs": [],
   "source": [
    "df_ratio_imports_elecprice_high_renewable = (df_gen_high_renewable.loc[:, (slice(None), \"Imports\")].droplevel(1, axis=1) / df_elec_price_hourly_high_renewable.set_index(df_gen_ref_renewable.index)).replace([np.inf, -np.inf], np.nan)\n",
    "df_ratio_exports_elecprice_high_renewable = ((-df_gen_high_renewable.loc[:, (slice(None), \"Exports\")]).droplevel(1, axis=1) / df_elec_price_hourly_high_renewable.set_index(df_gen_ref_renewable.index)).replace([np.inf, -np.inf], np.nan)\n",
    "\n",
    "df_monthly_mean_ratio_imports_elecprice_high_renewable = df_ratio_imports_elecprice_high_renewable.groupby(pd.Grouper(freq='M')).agg(lambda x: x.dropna().mean())\n",
    "df_monthly_mean_ratio_exports_elecprice_high_renewable = df_ratio_exports_elecprice_high_renewable.groupby(pd.Grouper(freq='M')).agg(lambda x: x.dropna().mean())"
   ]
  },
  {
   "cell_type": "markdown",
   "id": "17564f7a-b5ea-4dc4-8b92-2493e099bceb",
   "metadata": {},
   "source": [
    "# Paper plots"
   ]
  },
  {
   "cell_type": "code",
   "execution_count": null,
   "id": "83de6fa0-163c-47d5-9a56-4e95ac73f304",
   "metadata": {},
   "outputs": [],
   "source": [
    "file_format = \"pdf\""
   ]
  },
  {
   "cell_type": "code",
   "execution_count": null,
   "id": "fdef030c-5498-4459-b210-195467df5d86",
   "metadata": {},
   "outputs": [],
   "source": [
    "fontsize_ticks = 6\n",
    "fontsize_labels = 7\n",
    "fontsize_title = 8"
   ]
  },
  {
   "cell_type": "code",
   "execution_count": null,
   "id": "6ee21fd3-2098-46f9-aea7-825f2ff9e5bc",
   "metadata": {},
   "outputs": [],
   "source": [
    "blue = sns.color_palette(\"colorblind\")[0]\n",
    "orange = sns.color_palette(\"colorblind\")[1]\n",
    "green = sns.color_palette(\"colorblind\")[2]\n",
    "red = sns.color_palette(\"colorblind\")[3]"
   ]
  },
  {
   "cell_type": "code",
   "execution_count": null,
   "id": "1fb58032-0c4f-407c-bea5-e0d7cf94df70",
   "metadata": {},
   "outputs": [],
   "source": [
    "df_annual_ror_gen_ref_renewable_twh = (df_annual_ror_gen_ref_renewable * 1e-6).to_numpy()\n",
    "df_annual_ror_gen_high_renewable_twh = (df_annual_ror_gen_high_renewable * 1e-6).to_numpy()\n",
    "df_annual_ror_gen_combined = np.sort(np.concatenate([df_annual_ror_gen_ref_renewable_twh, df_annual_ror_gen_high_renewable_twh]))\n",
    "\n",
    "df_monthly_ror_gen_ref_renewable_twh = (df_monthly_ror_gen_ref_renewable * 1e-6)\n",
    "df_monthly_ror_gen_high_renewable_twh = (df_monthly_ror_gen_high_renewable * 1e-6)"
   ]
  },
  {
   "cell_type": "code",
   "execution_count": null,
   "id": "7e086a0e-3b8e-4f6b-bf16-cee1a719dc00",
   "metadata": {},
   "outputs": [],
   "source": [
    "df_annual_ror_gen_ref_renewable_anomaly = df_annual_ror_gen_ref_renewable_twh - df_annual_ror_gen_ref_renewable_twh.mean()\n",
    "df_annual_ror_gen_high_renewable_anomaly = df_annual_ror_gen_high_renewable_twh - df_annual_ror_gen_high_renewable_twh.mean()"
   ]
  },
  {
   "cell_type": "code",
   "execution_count": null,
   "id": "52c713c6-f481-4c4f-a898-8ae518df73c0",
   "metadata": {},
   "outputs": [],
   "source": [
    "df_monthly_ror_gen_ref_renewable_anomaly = df_monthly_ror_gen_ref_renewable_twh.sub(df_monthly_ror_gen_ref_renewable_twh.mean(axis=1), axis=0)\n",
    "df_monthly_ror_gen_high_renewable_anomaly = df_monthly_ror_gen_high_renewable_twh.sub(df_monthly_ror_gen_high_renewable_twh.mean(axis=1), axis=0)"
   ]
  },
  {
   "cell_type": "code",
   "execution_count": null,
   "id": "81247693-70c9-4391-9541-d1bbafd8a6e6",
   "metadata": {},
   "outputs": [],
   "source": [
    "df_elec_price_monthly_ref_renewable_anomaly = df_elec_price_monthly_ref_renewable.sub(df_elec_price_monthly_ref_renewable.mean(axis=1), axis=0)"
   ]
  },
  {
   "cell_type": "markdown",
   "id": "a39451a1-5889-4c5e-873e-a5cd0d34840c",
   "metadata": {},
   "source": [
    "## Fig 5 - Electricity prices"
   ]
  },
  {
   "cell_type": "code",
   "execution_count": null,
   "id": "130240e3-3e20-4c6e-a234-c38ac1042fc5",
   "metadata": {},
   "outputs": [],
   "source": [
    "df_elec_price_monthly_ref_renewable.index = pd.date_range(\"2050-01-01\", \"2051-01-01\", freq=\"M\", inclusive=\"left\").strftime(\"%b\")\n",
    "df_elec_price_monthly_high_renewable.index = pd.date_range(\"2050-01-01\", \"2051-01-01\", freq=\"M\", inclusive=\"left\").strftime(\"%b\")"
   ]
  },
  {
   "cell_type": "code",
   "execution_count": null,
   "id": "29f901c6-05d3-4be0-b2b8-b3b6f6291b1a",
   "metadata": {},
   "outputs": [],
   "source": [
    "fig = plt.figure(figsize=(15 * cm, 10 * cm), layout=\"constrained\")\n",
    "spec = fig.add_gridspec(2, 2, height_ratios=[1, 1])\n",
    "\n",
    "################################################################################################################\n",
    "\n",
    "ax0 = fig.add_subplot(spec[0, :])\n",
    "max_y = np.max([df_elec_price_monthly_ref_renewable.max(), df_elec_price_monthly_high_renewable.max()])\n",
    "min_y = np.min([df_elec_price_monthly_ref_renewable.min(), df_elec_price_monthly_high_renewable.min()])\n",
    "\n",
    "df_elec_price_monthly_ref_renewable.plot(ax=ax0, alpha=0.1, color=green, legend=False, rasterized=True)\n",
    "df_elec_price_monthly_high_renewable.plot(ax=ax0, alpha=0.1, color=orange, legend=False, rasterized=True)\n",
    "\n",
    "df_elec_price_monthly_ref_renewable.mean(axis=1).rename(\"mean_ref_renewable\").plot(ax=ax0, color=green, label=\"Reference\", legend=True)\n",
    "df_elec_price_monthly_high_renewable.mean(axis=1).rename(\"mean_high_renewable\").plot(ax=ax0, color=orange, label=\"High renewable target\", legend=True)\n",
    "\n",
    "ax0.axvline(2, color=\"black\", alpha=0.4, linestyle=\"--\")\n",
    "ax0.axvline(9, color=\"black\", alpha=0.4, linestyle=\"--\")\n",
    "\n",
    "ax0.text(x=0.25, y=155, s=\"Winter\", fontsize=fontsize_ticks)\n",
    "ax0.text(x=10.2, y=155, s=\"Winter\", fontsize=fontsize_ticks)\n",
    "ax0.text(x=5.1, y=155, s=\"Summer\", fontsize=fontsize_ticks)\n",
    "\n",
    "ax0.set_ylim([min_y - 5, max_y + 5])\n",
    "ax0.set_ylabel(\"Electricity price (in EUR/MWh)\", fontsize=fontsize_labels, labelpad=8)\n",
    "\n",
    "ax0.set_xticks(range(len(df_elec_price_monthly_ref_renewable)))\n",
    "ax0.set_xticklabels(df_elec_price_monthly_ref_renewable.index)\n",
    "\n",
    "ax0.tick_params(axis='both', which='major', labelsize=fontsize_ticks)\n",
    "ax0.tick_params(axis='both', which='minor', labelsize=fontsize_ticks)\n",
    "\n",
    "ax0.set_title(\"a\", fontweight='bold', loc=\"left\", fontsize=fontsize_title, x=-0.085, y=1.05)\n",
    "\n",
    "handles, labels = ax0.get_legend_handles_labels()\n",
    "ax0.legend(handles=handles[-2:], labels=labels[-2:], loc='upper center', fontsize=fontsize_labels)\n",
    "\n",
    "ax11 = fig.add_subplot(spec[1, :])\n",
    "\n",
    "sigma_ratios = np.log2(df_elec_price_monthly_ref_renewable.std(axis=1).rename(\"mean_ref_renewable\") / \n",
    "                df_elec_price_monthly_high_renewable.std(axis=1).rename(\"mean_high_renewable\"))\n",
    "\n",
    "sigma_ratios.plot.bar(ax=ax11, color=blue, legend=False)\n",
    "\n",
    "ax11.set_xticklabels(ax11.get_xticklabels(which=\"both\"), rotation=0)\n",
    "\n",
    "ax11.set_ylabel(r'Multiplication factor of spread', fontsize=fontsize_labels)\n",
    "yticks = np.arange(int(sigma_ratios.min()) - 1, int(sigma_ratios.max()) + 1, 1, dtype=float)\n",
    "ytick_labels = [\"x \" + str(int(2**n)) if n >= 0 else r\"$\\div$ \" + str(int(2**(-n))) for n in yticks]\n",
    "ax11.set_yticks(yticks, labels=ytick_labels)\n",
    "\n",
    "ax11.tick_params(axis='both', which='major', labelsize=fontsize_ticks)\n",
    "ax11.tick_params(axis='both', which='minor', labelsize=fontsize_ticks)\n",
    "\n",
    "ax11.set_title(\"b\", fontweight='bold', loc=\"left\", fontsize=fontsize_title, x=-0.085, y=1.05)\n",
    "\n",
    "plt.savefig(path_figs / \"fig_5.pdf\", format=file_format, dpi=300, bbox_inches=\"tight\")\n",
    "plt.show()"
   ]
  },
  {
   "cell_type": "markdown",
   "id": "4401bea2-44d2-4a8c-a879-46560665aa43",
   "metadata": {},
   "source": [
    "## Fig 6 - Wind capacity + net winter imports"
   ]
  },
  {
   "cell_type": "code",
   "execution_count": null,
   "id": "2d948844-c57c-42dc-b9d3-5e7cba43b878",
   "metadata": {},
   "outputs": [],
   "source": [
    "def compute_slopes(\n",
    "        x_array: np.ndarray,\n",
    "        y_series: pd.Series\n",
    "    ) -> Dict:\n",
    "    X = x_array.reshape(-1, 1)\n",
    "    coef, _, _, conf_interval = NationalAnalysisHydropower.compute_trend_statsmodel(X, y_series.values)\n",
    "    dict_coeffs ={\n",
    "        \"name\": y_series.name,\n",
    "        \"coef\": coef,\n",
    "        \"lower\": conf_interval[1][0],\n",
    "        \"upper\": conf_interval[1][1],\n",
    "    }\n",
    "    \n",
    "    return dict_coeffs\n",
    "\n",
    "def compute_error_bars(df_coeffs_scenarios: pd.DataFrame) -> List[float]:\n",
    "    per_ror_gen_error = [\n",
    "        [df_coeffs_scenarios[\"coef\"].iloc[0] - df_coeffs_scenarios[\"lower\"].iloc[0], \n",
    "         df_coeffs_scenarios[\"upper\"].iloc[0] - df_coeffs_scenarios[\"coef\"].iloc[0]],\n",
    "        [df_coeffs_scenarios[\"coef\"].iloc[1] - df_coeffs_scenarios[\"lower\"].iloc[1], \n",
    "         df_coeffs_scenarios[\"upper\"].iloc[1] - df_coeffs_scenarios[\"coef\"].iloc[1]]\n",
    "    ]\n",
    "\n",
    "    return per_ror_gen_error"
   ]
  },
  {
   "cell_type": "code",
   "execution_count": null,
   "id": "4affcc82-3f18-47cf-bf15-8019f4509700",
   "metadata": {},
   "outputs": [],
   "source": [
    "columns_df_gen = df_gen_ref_renewable.loc[:, (1991, slice(None))].columns.get_level_values(1).to_list()\n",
    "columns_df_gen.remove(\"RoR\")\n",
    "df_slopes_gen = []\n",
    "for column in columns_df_gen:\n",
    "    df_slopes_gen.append(\n",
    "        pd.concat([pd.DataFrame([\n",
    "            compute_slopes(df_annual_ror_gen_ref_renewable_twh, \n",
    "                           (df_gen_ref_renewable.loc[:, (slice(None), column)].sum().droplevel(1) * 1e-6).rename(\"Reference\")\n",
    "                          ),\n",
    "            compute_slopes(df_annual_ror_gen_high_renewable_twh, \n",
    "                           (df_gen_high_renewable.loc[:, (slice(None), column)].sum().droplevel(1) * 1e-6).rename(\"High renewable target\")\n",
    "                          )\n",
    "        ]), pd.Series([column]*2, name=\"type\")], axis=1)\n",
    "    )\n",
    "df_slopes_gen = pd.concat(df_slopes_gen).set_index([\"type\", \"name\"])\n",
    "df_slopes_gen.head()"
   ]
  },
  {
   "cell_type": "code",
   "execution_count": null,
   "id": "66c03438-74d6-49d5-8fdf-8d9d521e11ed",
   "metadata": {},
   "outputs": [],
   "source": [
    "df_slopes_gen_ref_renewable = df_slopes_gen.loc[(slice(None), \"Reference\"), :]\n",
    "df_slopes_gen_ref_renewable.sort_values(\"coef\").head(5)"
   ]
  },
  {
   "cell_type": "code",
   "execution_count": null,
   "id": "a9ba7bb7-992e-4301-a942-f720b62623e1",
   "metadata": {},
   "outputs": [],
   "source": [
    "df_slopes_gen_high_renewable = df_slopes_gen.loc[(slice(None), \"High renewable target\"), :]\n",
    "df_slopes_gen_high_renewable.sort_values(\"coef\").head(5)"
   ]
  },
  {
   "cell_type": "code",
   "execution_count": null,
   "id": "1849c2d2-db7c-4973-8f18-36d4184b130a",
   "metadata": {},
   "outputs": [],
   "source": [
    "fig, ax = plt.subplots(figsize=(7.5 * cm, 5 * cm))\n",
    "\n",
    "colors = [green, orange]\n",
    "alphas = [(0.8,), (0.8,)]\n",
    "colors_with_alpha = [c + a for c, a in zip(colors, alphas)]\n",
    "\n",
    "compensation_tech = [\"Dam\", \"PV-alpine\", \"Imports\"]\n",
    "\n",
    "errors = {tech: compute_error_bars(df_slopes_gen.loc[(tech, slice(None)), :]) for tech in compensation_tech}\n",
    "\n",
    "x_positions = np.array([0.8, 2.6, 4.4])  # Positions for the two variables\n",
    "width = 0.4  # Separation for scenarios\n",
    "\n",
    "# Plot for Scenario 1\n",
    "ax.errorbar(x_positions - width/2, \n",
    "               [df_slopes_gen.loc[(tech, slice(None)), \"coef\"].iloc[0] for tech in compensation_tech], \n",
    "               yerr=np.transpose([errors[tech][0] for tech in compensation_tech]), fmt='o', \n",
    "               label='Reference', color=colors_with_alpha[0], ecolor=colors_with_alpha[0], \n",
    "            elinewidth=1, linewidth=0, markeredgewidth=0, rasterized=(file_format == \"eps\"))\n",
    "\n",
    "# Plot for Scenario 2\n",
    "ax.errorbar(x_positions + width/2, \n",
    "               [df_slopes_gen.loc[(tech, slice(None)), \"coef\"].iloc[1] for tech in compensation_tech], \n",
    "               yerr=np.transpose([errors[tech][1] for tech in compensation_tech]), fmt='o', \n",
    "               label='High renewable target', color=colors_with_alpha[1], ecolor=colors_with_alpha[1], \n",
    "            elinewidth=1, markeredgewidth=0, rasterized=(file_format == \"eps\"))\n",
    "\n",
    "ax.axvline(1.7, color=\"black\", alpha=0.4, linestyle=\"--\")\n",
    "ax.axvline(3.5, color=\"black\", alpha=0.4, linestyle=\"--\")\n",
    "\n",
    "\n",
    "ax.set_xticks(x_positions)\n",
    "ax.set_xticklabels(['Dam Generation\\n(in TWh)', 'Alpine PV Generation\\n(in TWh)', 'Imports \\n(in TWh)'])\n",
    "ax.set_ylabel('Slope (-)', fontsize=fontsize_labels)\n",
    "ax.set_xlim(0, 5)\n",
    "\n",
    "ax.tick_params(axis=\"both\", which=\"major\", labelsize=fontsize_ticks)\n",
    "ax.tick_params(axis=\"both\", which=\"minor\", labelsize=fontsize_ticks)\n",
    "\n",
    "handles, labels = ax.get_legend_handles_labels()\n",
    "fig.legend(handles=handles, labels=labels, loc='lower center', ncol=2, bbox_to_anchor=(0.5, -0.18), fontsize=fontsize_labels)\n",
    "\n",
    "plt.savefig(path_figs / \"fig_6.pdf\", format=file_format, dpi=300, bbox_inches=\"tight\")\n",
    "plt.show()"
   ]
  },
  {
   "cell_type": "markdown",
   "id": "b133e17c-5e52-4aa3-97df-1fd542d5ba37",
   "metadata": {},
   "source": [
    "## Sup Fig 5 - Comparison of the systems generated by the two scenarios (average generation of key technologies)"
   ]
  },
  {
   "cell_type": "code",
   "execution_count": null,
   "id": "3b6780be-731b-4c24-9204-5c085b168650",
   "metadata": {},
   "outputs": [],
   "source": [
    "dark_blue = (0, 0.25098039215686274, 0.49803921568627446)\n",
    "medium_blue = (0.17058823529411765, 0.5784313725490197, 0.8058823529411765)\n",
    "light_grey = (0.7803921568627452, 0.7803921568627452, 0.7803921568627452)\n",
    "tech_categories_colors = [\n",
    "    dark_blue,\n",
    "    sns.color_palette(\"colorblind\")[0], \n",
    "    medium_blue, \n",
    "    sns.color_palette(\"colorblind\")[2], \n",
    "    sns.color_palette(\"colorblind\")[1], \n",
    "    sns.color_palette(\"colorblind\")[5], \n",
    "    sns.color_palette(\"colorblind\")[7],\n",
    "    sns.color_palette(\"colorblind\")[-1],\n",
    "    light_grey\n",
    "]"
   ]
  },
  {
   "cell_type": "code",
   "execution_count": null,
   "id": "ba1eda68-aee4-4c89-a3ea-fb62d3fd91d5",
   "metadata": {},
   "outputs": [],
   "source": [
    "fig, ax = plt.subplots(figsize=(15*cm, 5*cm), layout=\"constrained\")\n",
    "columns = ['Dam', 'RoR', 'Pump-Open', 'WindOn', 'PV-roof', 'PV-alpine', 'Imports','Pump-Open (Load)', 'Exports']\n",
    "\n",
    "avg_gen_scenarios = pd.concat([(df_gen_ref_renewable.loc[:, (slice(None), columns)].sum().droplevel(0).groupby(level=0).mean() * 1e-6).rename(\"Reference\"),\n",
    "           (df_gen_high_renewable.loc[:, (slice(None), columns)].sum().droplevel(0).groupby(level=0).mean() * 1e-6).rename(\"High renewable target\")], axis=1)\n",
    "\n",
    "avg_gen_scenarios = avg_gen_scenarios.loc[columns]\n",
    "\n",
    "avg_gen_scenarios.T.plot.barh(ax=ax, stacked=True, color=tech_categories_colors)\n",
    "\n",
    "ax.set_xlabel(\"Generation (in TWh)\", fontsize=fontsize_labels)\n",
    "ax.tick_params(axis=\"both\", which=\"major\", labelsize=fontsize_ticks)\n",
    "ax.tick_params(axis=\"both\", which=\"minor\", labelsize=fontsize_ticks)\n",
    "\n",
    "plt.legend(loc=\"center right\", bbox_to_anchor=(1.4, 0.5), fontsize=fontsize_labels)\n",
    "plt.savefig(path_figs / \"sup_fig_5.pdf\", dpi=300, bbox_inches=\"tight\")\n",
    "plt.show()"
   ]
  },
  {
   "cell_type": "code",
   "execution_count": null,
   "id": "1f43acf9-6442-4ba8-af23-0cf9d0e2ea90",
   "metadata": {},
   "outputs": [],
   "source": [
    "avg_gen_scenarios"
   ]
  },
  {
   "cell_type": "markdown",
   "id": "045ab29b-3688-4304-ae05-85a577d4f844",
   "metadata": {},
   "source": [
    "## Sup Fig 6 - Understanding the effect of weather types on electricity prices"
   ]
  },
  {
   "cell_type": "code",
   "execution_count": null,
   "id": "fb3c982f-4925-44a9-b5f3-e6b36127846c",
   "metadata": {},
   "outputs": [],
   "source": [
    "fig, ax = plt.subplots(2, 3, figsize=(10.5*cm, 7.5*cm), layout=\"constrained\")\n",
    "\n",
    "winter_months = df_elec_price_monthly_ref_renewable.index.tolist()[:3] + df_elec_price_monthly_ref_renewable.index.tolist()[9:]\n",
    "\n",
    "elec_price_range = (df_elec_price_monthly_ref_renewable.loc[winter_months].min(axis=None) - 20, \n",
    "                    df_elec_price_monthly_ref_renewable.loc[winter_months].max(axis=None) + 20)\n",
    "\n",
    "ror_gen_anomaly_range = (df_monthly_ror_gen_ref_renewable_anomaly.loc[winter_months].min(axis=None) - 0.2, \n",
    "                         df_monthly_ror_gen_ref_renewable_anomaly.loc[winter_months].max(axis=None) + 0.1)\n",
    "\n",
    "\n",
    "ax = ax.flatten()\n",
    "for i, month in enumerate(winter_months):\n",
    "    ax[i].set_xlim(*ror_gen_anomaly_range)\n",
    "    ax[i].set_ylim(*elec_price_range)\n",
    "    # sns.regplot(x=df_monthly_ror_gen_ref_renewable_anomaly.loc[month], \n",
    "    #             y=df_elec_price_monthly_ref_renewable.loc[month].to_numpy(), \n",
    "    #             color=blue, \n",
    "    #             scatter_kws={\"color\": blue, \"alpha\": 0.2}, \n",
    "    #             line_kws={\"color\": blue, \"alpha\": 1, \"lw\": 2}, \n",
    "    #             truncate=False, \n",
    "    #             ax=ax[i],\n",
    "    #             n_boot=2000,\n",
    "    #             seed=20)\n",
    "    ax[i].scatter(x=df_monthly_ror_gen_ref_renewable_anomaly.loc[month], \n",
    "                y=df_elec_price_monthly_ref_renewable.loc[month],\n",
    "                color=blue,\n",
    "                alpha=0.5)\n",
    "    \n",
    "    ax[i].set_xlabel(\"\")\n",
    "    ax[i].set_title(month, fontsize=fontsize_title)\n",
    "\n",
    "fig.supxlabel(\"RoR generation anomaly (in TWh)\", fontsize=fontsize_labels)\n",
    "fig.supylabel(\"Electricity price (in EUR/MWh)\", fontsize=fontsize_labels)\n",
    "\n",
    "for i in range(len(ax)):\n",
    "    ax[i].tick_params(axis=\"both\", which=\"major\", labelsize=fontsize_ticks)\n",
    "    ax[i].tick_params(axis=\"both\", which=\"minor\", labelsize=fontsize_ticks)\n",
    "\n",
    "plt.savefig(path_figs / \"sup_fig_6.pdf\", dpi=300, bbox_inches=\"tight\")\n",
    "plt.show()"
   ]
  },
  {
   "cell_type": "code",
   "execution_count": null,
   "id": "b59fcfd9-895e-4c12-ae7e-9770a1df7a87",
   "metadata": {},
   "outputs": [],
   "source": []
  }
 ],
 "metadata": {
  "kernelspec": {
   "display_name": "Python (iacpy3_2023)",
   "language": "python",
   "name": "iacpy3_2023"
  },
  "language_info": {
   "codemirror_mode": {
    "name": "ipython",
    "version": 3
   },
   "file_extension": ".py",
   "mimetype": "text/x-python",
   "name": "python",
   "nbconvert_exporter": "python",
   "pygments_lexer": "ipython3",
   "version": "3.11.4"
  }
 },
 "nbformat": 4,
 "nbformat_minor": 5
}
