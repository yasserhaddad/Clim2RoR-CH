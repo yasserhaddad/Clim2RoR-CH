{
 "cells": [
  {
   "cell_type": "code",
   "execution_count": 7,
   "id": "7b646b81-130a-4ce4-ba5e-f309c4be40ff",
   "metadata": {
    "tags": []
   },
   "outputs": [
    {
     "name": "stdout",
     "output_type": "stream",
     "text": [
      "The autoreload extension is already loaded. To reload it, use:\n",
      "  %reload_ext autoreload\n"
     ]
    }
   ],
   "source": [
    "%load_ext autoreload\n",
    "%autoreload 2"
   ]
  },
  {
   "cell_type": "code",
   "execution_count": 79,
   "id": "8102076b-d503-408e-ba3f-c1bddbef417c",
   "metadata": {
    "tags": []
   },
   "outputs": [],
   "source": [
    "import sys\n",
    "sys.path.append(\"..\")\n",
    "sys.path.append(\"../..\")\n",
    "\n",
    "import json\n",
    "from pathlib import Path\n",
    "import numpy as np\n",
    "import xarray as xr\n",
    "import pandas as pd\n",
    "\n",
    "import os\n",
    "os.environ['USE_PYGEOS'] = '0'\n",
    "import geopandas as gpd\n",
    "\n",
    "from ast import literal_eval\n",
    "from typing import List\n",
    "from functools import reduce\n",
    "\n",
    "import matplotlib as mpl\n",
    "import matplotlib.pyplot as plt\n",
    "import seaborn as sns\n",
    "sns.set_style(\"whitegrid\", {\"grid.color\": \".93\"})\n",
    "\n",
    "from src.paper_data_processing import DataProcessing\n",
    "from src.paper_analysis_hydropower import NationalAnalysisHydropower"
   ]
  },
  {
   "cell_type": "code",
   "execution_count": 76,
   "id": "7debc9f9-a924-4fb8-9db4-71af0feb8d03",
   "metadata": {},
   "outputs": [],
   "source": [
    "paths = json.load(open(\"../paths_megadroughts.json\"))\n",
    "\n",
    "path_data = Path(paths[\"path_data\"])\n",
    "\n",
    "path_data_hydro = path_data / \"hydropower\"\n",
    "path_data_polygons = path_data / \"polygons\"\n",
    "path_swiss_maps = path_data / \"maps\" / \"swissboundaries3d_2023-01_2056_5728/\"\n",
    "\n",
    "path_figs = Path(paths[\"path_figs\"])"
   ]
  },
  {
   "cell_type": "code",
   "execution_count": 53,
   "id": "8386f69b-418c-401c-9258-d300619b1bfa",
   "metadata": {},
   "outputs": [
    {
     "name": "stdout",
     "output_type": "stream",
     "text": [
      "Loading data\n"
     ]
    }
   ],
   "source": [
    "data_processing = DataProcessing(\"../paths_megadroughts.json\")"
   ]
  },
  {
   "cell_type": "markdown",
   "id": "13f15980-264e-4ce0-a2bd-b477cbf41d50",
   "metadata": {},
   "source": [
    "# Transform data\n",
    "Example code\n",
    "\n",
    "```python\n",
    "ds = xr.open_dataset(data_processing.path_data_prevah / \"netcdf\" / \"EMC8_2015-2019_RGS_2024.nc\")\n",
    "for nc_file in (data_processing.path_data_prevah / \"netcdf_old\").glob(\"*\"):\n",
    "    xr.open_dataset(nc_file).rename({\"lat2\": \"y\", \"lon2\": \"x\", \"RGS\": \"rgs\"}).sortby(\"time\").to_netcdf(data_processing.path_data_prevah / \"netcdf\" / nc_file.name)\n",
    "```"
   ]
  },
  {
   "cell_type": "markdown",
   "id": "29c6723c-6c83-4dc1-bb55-47a38a28dcd0",
   "metadata": {},
   "source": [
    "# Plot data"
   ]
  },
  {
   "cell_type": "code",
   "execution_count": 56,
   "id": "5226c27e-6cc7-4b3b-b819-2f8cc2af304c",
   "metadata": {},
   "outputs": [],
   "source": [
    "gdf_switzerland = gpd.read_file(path_swiss_maps / \"swissBOUNDARIES3D_1_4_TLM_LANDESGEBIET.shp\").to_crs(\"EPSG:2056\")\n",
    "\n",
    "## Load BAFU polygons\n",
    "gdf_polygons = gpd.read_file(path_data_polygons / \"EZG_Gewaesser.gpkg\")\n",
    "\n",
    "## Load collocated hydropower locations and BAFU polygons\n",
    "df_hydropower_polygons = pd.read_json(path_data_hydro / \"hydropower_polygons\" / \"df_hydropower_polygons.json\", orient=\"records\")\n",
    "gdf_hydropower_polygons = gpd.GeoDataFrame(df_hydropower_polygons, geometry=gpd.points_from_xy(df_hydropower_polygons[\"_x\"], df_hydropower_polygons[\"_y\"]), crs=\"EPSG:2056\")\n",
    "\n",
    "## Load hydropower characteristics\n",
    "df_wasta = pd.read_excel(path_data_hydro / \"stats_hydropower_ch\" / \"wasta_2023_updated.xlsx\")\n",
    "\n",
    "## Load hydropower production (with simplified efficiency and with/without beta coefficient)\n",
    "ds_hydropower_generation = xr.open_dataset(path_data_hydro / \"hydropower_generation\" / \"ds_prevah_500_hydropower_production_ror_simplified_efficiency.nc\")\n",
    "ds_hydropower_generation_beta = xr.open_dataset(path_data_hydro / \"hydropower_generation\" / \"ds_prevah_500_hydropower_production_ror_simplified_efficiency_with_beta.nc\")\n",
    "ds_hydropower_generation_merged = xr.merge([ds_hydropower_generation.rename({\"gen\": \"hp_no_beta\"}),\n",
    "                                            ds_hydropower_generation_beta.rename({\"gen\": \"hp_with_beta\"})]).load()\n",
    "\n",
    "df_hydropower_production_params = pd.read_csv(path_data_hydro / \"hydropower_generation\" / \"ds_prevah_500_hydropower_production_ror_parameters.csv\")\n",
    "df_hydropower_production_params.loc[df_hydropower_production_params[\"Expected yearly generation\"] == 0, \"Expected yearly generation\"] = \\\n",
    "    df_hydropower_production_params[df_hydropower_production_params[\"Expected yearly generation\"] == 0].apply(lambda row: round(row[\"Capacity\"] * 365 * 24 * 1e-6, 2), axis=1)\n",
    "\n",
    "## Load historical Swiss electricity generation data\n",
    "df_historical_data = pd.read_csv(path_data / \"energy\" / \"ogd35_schweizerische_elektrizitaetsbilanz_monatswerte.csv\")"
   ]
  },
  {
   "cell_type": "code",
   "execution_count": 90,
   "id": "e77dd8c0-9b66-4bb2-b2c0-9713c0c672f0",
   "metadata": {},
   "outputs": [],
   "source": [
    "monthly_bias_correction_factors = (\n",
    "    xr.open_dataset(path_data_hydro / \"hydropower_generation\" / \"ds_prevah_500_hydropower_production_ror_simplified_efficiency_monthly_bias_correction_factors.nc\")\n",
    "      .bias_correction_factor.load()\n",
    "      .sel(time=pd.date_range(start=\"01-01-1992\", end=\"12-01-1992\", freq=\"MS\")).values\n",
    ")"
   ]
  },
  {
   "cell_type": "code",
   "execution_count": 91,
   "id": "c82d3bce-b57b-4b1e-ab7e-aa41fbc69e3f",
   "metadata": {},
   "outputs": [],
   "source": [
    "indices_months = ds_hydropower_generation.groupby(\"time.month\").groups\n",
    "monthly_bias_correction_factors_hourly = np.empty(len(ds_hydropower_generation.time))\n",
    "for i, month in enumerate(indices_months):\n",
    "    monthly_bias_correction_factors_hourly[indices_months[month]] = monthly_bias_correction_factors[i]\n",
    "\n",
    "ds_monthly_bias_correction_factors = xr.DataArray(\n",
    "    monthly_bias_correction_factors_hourly,\n",
    "    dims=[\"time\"],\n",
    "    coords={\"time\": ([\"time\"], ds_hydropower_generation.time.values)},\n",
    ")"
   ]
  },
  {
   "cell_type": "code",
   "execution_count": 92,
   "id": "be2ac855-cc47-46f4-8594-d599da4001b7",
   "metadata": {},
   "outputs": [],
   "source": [
    "national_analysis = NationalAnalysisHydropower(gdf_switzerland, gdf_hydropower_polygons, df_wasta,\n",
    "                                               ds_hydropower_generation_merged * ds_monthly_bias_correction_factors, \n",
    "                                               df_hydropower_production_params, \n",
    "                                               df_historical_data[[\"Jahr\", \"Monat\", \"Erzeugung_laufwerk_GWh\", \n",
    "                                                                   \"Erzeugung_speicherwerk_GWh\", \n",
    "                                                                   \"Verbrauch_speicherpumpen_GWh\"]], \n",
    "                                               path_figs)"
   ]
  },
  {
   "cell_type": "code",
   "execution_count": 81,
   "id": "94835f82-a01f-4aba-a6ca-e79b8ffc0134",
   "metadata": {},
   "outputs": [],
   "source": [
    "national_analysis.aggregate_yearly_estimated_generation(with_percentage=False)\n",
    "national_analysis.aggregate_yearly_estimated_generation_with_operation_start(with_percentage=False)\n",
    "national_analysis.aggregate_yearly_estimated_generation_per_hp()\n",
    "national_analysis.aggregate_yearly_estimated_generation_per_hp(reference_period=slice(\"1991\", \"2020\"))"
   ]
  },
  {
   "cell_type": "code",
   "execution_count": null,
   "id": "8328a84c-1d30-46b0-bf41-c58e50dfcca9",
   "metadata": {},
   "outputs": [],
   "source": [
    "national_analysis.aggregate_seasonal_estimated_generation(with_operation_start=False)\n",
    "national_analysis.aggregate_seasonal_estimated_generation(with_operation_start=True)\n",
    "national_analysis.aggregate_seasonal_estimated_generation(with_operation_start=False, per_hydropower=True)\n",
    "national_analysis.aggregate_reference_seasonal_estimated_generation()"
   ]
  },
  {
   "cell_type": "code",
   "execution_count": 101,
   "id": "19dfcabc-0a3e-4fec-8147-d40936f8204d",
   "metadata": {},
   "outputs": [
    {
     "data": {
      "text/plain": [
       "[<matplotlib.lines.Line2D at 0x7f86cf1897d0>]"
      ]
     },
     "execution_count": 101,
     "metadata": {},
     "output_type": "execute_result"
    },
    {
     "data": {
      "image/png": "[encoded data removed]",
      "text/plain": [
       "<Figure size 640x480 with 1 Axes>"
      ]
     },
     "metadata": {},
     "output_type": "display_data"
    }
   ],
   "source": [
    "(ds_hydropower_generation_merged * ds_monthly_bias_correction_factors).groupby(\"time.year\").sum().sum(\"hydropower\").sel(year=slice(\"2016\", \"2025\")).hp_no_beta.plot()"
   ]
  },
  {
   "cell_type": "code",
   "execution_count": null,
   "id": "d36a72f4-7c4b-4cfc-ba0d-7c634b81aeaf",
   "metadata": {},
   "outputs": [],
   "source": []
  }
 ],
 "metadata": {
  "kernelspec": {
   "display_name": "Python (iacpy3_2023)",
   "language": "python",
   "name": "iacpy3_2023"
  },
  "language_info": {
   "codemirror_mode": {
    "name": "ipython",
    "version": 3
   },
   "file_extension": ".py",
   "mimetype": "text/x-python",
   "name": "python",
   "nbconvert_exporter": "python",
   "pygments_lexer": "ipython3",
   "version": "3.11.4"
  }
 },
 "nbformat": 4,
 "nbformat_minor": 5
}
