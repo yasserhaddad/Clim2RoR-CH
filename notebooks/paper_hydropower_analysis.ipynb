{
 "cells": [
  {
   "cell_type": "code",
   "execution_count": null,
   "id": "1f15d26d-2b6e-438e-9d20-3801ed7ad973",
   "metadata": {
    "tags": []
   },
   "outputs": [],
   "source": [
    "%load_ext autoreload\n",
    "%autoreload 2"
   ]
  },
  {
   "cell_type": "code",
   "execution_count": null,
   "id": "22c0d891-30a5-4817-a951-7ff93e007557",
   "metadata": {
    "tags": []
   },
   "outputs": [],
   "source": [
    "import sys\n",
    "sys.path.append(\"..\")\n",
    "sys.path.append(\"../..\")\n",
    "\n",
    "import json\n",
    "from pathlib import Path\n",
    "import numpy as np\n",
    "import xarray as xr\n",
    "import pandas as pd\n",
    "\n",
    "import os\n",
    "os.environ['USE_PYGEOS'] = '0'\n",
    "import geopandas as gpd\n",
    "\n",
    "from ast import literal_eval\n",
    "from typing import List\n",
    "from functools import reduce\n",
    "\n",
    "from src.paper_analysis_hydropower import NationalAnalysisHydropower, plot_pre_post_bias_correction_validation, blue"
   ]
  },
  {
   "cell_type": "code",
   "execution_count": null,
   "id": "23f233a8-be31-4057-ab7e-08b581fa36ce",
   "metadata": {},
   "outputs": [],
   "source": [
    "cm = 1 / 2.54"
   ]
  },
  {
   "cell_type": "code",
   "execution_count": null,
   "id": "a68b2ae7-c622-4046-a31d-5afc194bcb0f",
   "metadata": {},
   "outputs": [],
   "source": [
    "paths = json.load(open(\"../paths.json\"))\n",
    "\n",
    "path_data = Path(paths[\"path_data\"])\n",
    "\n",
    "path_data_hydro = path_data / \"hydropower\"\n",
    "path_data_polygons = path_data / \"polygons\"\n",
    "path_swiss_maps = path_data / \"maps\" / \"swissboundaries3d_2023-01_2056_5728/\"\n",
    "\n",
    "path_figs = Path(paths[\"path_figs\"])"
   ]
  },
  {
   "cell_type": "code",
   "execution_count": null,
   "id": "1f1f64a6-d7d5-41cb-88cf-b799b25c9d29",
   "metadata": {
    "tags": []
   },
   "outputs": [],
   "source": [
    "gdf_switzerland = gpd.read_file(path_swiss_maps / \"swissBOUNDARIES3D_1_4_TLM_LANDESGEBIET.shp\").to_crs(\"EPSG:2056\")\n",
    "\n",
    "## Load BAFU polygons\n",
    "gdf_polygons = gpd.read_file(path_data_polygons / \"EZG_Gewaesser.gpkg\")\n",
    "\n",
    "## Load collocated hydropower locations and BAFU polygons\n",
    "df_hydropower_polygons = pd.read_json(path_data_hydro / \"hydropower_polygons\" / \"df_hydropower_polygons.json\", orient=\"records\")\n",
    "gdf_hydropower_polygons = gpd.GeoDataFrame(df_hydropower_polygons, geometry=gpd.points_from_xy(df_hydropower_polygons[\"_x\"], df_hydropower_polygons[\"_y\"]), crs=\"EPSG:2056\")\n",
    "\n",
    "## Load hydropower characteristics\n",
    "df_wasta = pd.read_excel(path_data_hydro / \"stats_hydropower_ch\" / \"wasta_2023_updated.xlsx\")\n",
    "\n",
    "## Load hydropower production (with simplified efficiency and with/without beta coefficient)\n",
    "ds_hydropower_generation = xr.open_dataset(path_data_hydro / \"hydropower_generation\" / \"ds_prevah_500_hydropower_production_ror_simplified_efficiency.nc\")\n",
    "ds_hydropower_generation_beta = xr.open_dataset(path_data_hydro / \"hydropower_generation\" / \"ds_prevah_500_hydropower_production_ror_simplified_efficiency_with_beta.nc\")\n",
    "ds_hydropower_generation_merged = xr.merge([ds_hydropower_generation.rename({\"gen\": \"hp_no_beta\"}),\n",
    "                                            ds_hydropower_generation_beta.rename({\"gen\": \"hp_with_beta\"})]).load()\n",
    "\n",
    "df_hydropower_production_params = pd.read_csv(path_data_hydro / \"hydropower_generation\" / \"ds_prevah_500_hydropower_production_parameters.csv\")\n",
    "df_hydropower_production_params.loc[df_hydropower_production_params[\"Expected yearly generation\"] == 0, \"Expected yearly generation\"] = \\\n",
    "    df_hydropower_production_params[df_hydropower_production_params[\"Expected yearly generation\"] == 0].apply(lambda row: round(row[\"Capacity\"] * 365 * 24 * 1e-6, 2), axis=1)\n",
    "\n",
    "## Load historical Swiss electricity generation data\n",
    "df_historical_data = pd.read_csv(path_data / \"energy\" / \"ogd35_schweizerische_elektrizitaetsbilanz_monatswerte.csv\")"
   ]
  },
  {
   "cell_type": "markdown",
   "id": "991cf496-ddd0-4b90-87bc-a169e0128ac0",
   "metadata": {},
   "source": [
    "# Analyse data (without monthly bias correction)"
   ]
  },
  {
   "cell_type": "code",
   "execution_count": null,
   "id": "5f1738df-02df-4a76-a845-e04be79dd05a",
   "metadata": {},
   "outputs": [],
   "source": [
    "national_analysis_pre_correction = NationalAnalysisHydropower(gdf_switzerland, gdf_hydropower_polygons, df_wasta,\n",
    "                                               ds_hydropower_generation_merged, \n",
    "                                               df_hydropower_production_params, \n",
    "                                               df_historical_data[[\"Jahr\", \"Monat\", \"Erzeugung_laufwerk_GWh\", \n",
    "                                                                   \"Erzeugung_speicherwerk_GWh\", \n",
    "                                                                   \"Verbrauch_speicherpumpen_GWh\"]], \n",
    "                                               path_figs)"
   ]
  },
  {
   "cell_type": "code",
   "execution_count": null,
   "id": "807ca081-8912-4069-9075-f1b2c871e3cc",
   "metadata": {},
   "outputs": [],
   "source": [
    "national_analysis_pre_correction.aggregate_yearly_estimated_generation(with_percentage=False)\n",
    "national_analysis_pre_correction.aggregate_yearly_estimated_generation_with_operation_start(with_percentage=False)\n",
    "national_analysis_pre_correction.aggregate_yearly_estimated_generation_per_hp()\n",
    "national_analysis_pre_correction.aggregate_yearly_estimated_generation_per_hp(reference_period=slice(\"1991\", \"2020\"))"
   ]
  },
  {
   "cell_type": "code",
   "execution_count": null,
   "id": "7811f4bd-8f4d-4904-94b8-c6aa420ba094",
   "metadata": {},
   "outputs": [],
   "source": [
    "national_analysis_pre_correction.aggregate_seasonal_estimated_generation(with_operation_start=False)\n",
    "national_analysis_pre_correction.aggregate_seasonal_estimated_generation(with_operation_start=True)\n",
    "national_analysis_pre_correction.aggregate_seasonal_estimated_generation(with_operation_start=False, per_hydropower=True)\n",
    "national_analysis_pre_correction.aggregate_reference_seasonal_estimated_generation()"
   ]
  },
  {
   "cell_type": "markdown",
   "id": "2025b884-67f3-4bf8-a20d-270741a35443",
   "metadata": {},
   "source": [
    "# Analyse data (with monthly bias correction)"
   ]
  },
  {
   "cell_type": "code",
   "execution_count": null,
   "id": "0c768cd9-b787-4411-a987-59ba4e3d92f5",
   "metadata": {},
   "outputs": [],
   "source": [
    "ds_monthly_bias_correction_factors = xr.open_dataset(path_data_hydro / \"hydropower_generation\" / \"ds_prevah_500_hydropower_production_ror_simplified_efficiency_monthly_bias_correction_factors.nc\").bias_correction_factor.load()"
   ]
  },
  {
   "cell_type": "code",
   "execution_count": null,
   "id": "c611e9f9-2bdd-4f39-94df-da4764d81cea",
   "metadata": {},
   "outputs": [],
   "source": [
    "national_analysis = NationalAnalysisHydropower(gdf_switzerland, gdf_hydropower_polygons, df_wasta,\n",
    "                                               ds_hydropower_generation_merged * ds_monthly_bias_correction_factors, \n",
    "                                               df_hydropower_production_params, \n",
    "                                               df_historical_data[[\"Jahr\", \"Monat\", \"Erzeugung_laufwerk_GWh\", \n",
    "                                                                   \"Erzeugung_speicherwerk_GWh\", \n",
    "                                                                   \"Verbrauch_speicherpumpen_GWh\"]], \n",
    "                                               path_figs)"
   ]
  },
  {
   "cell_type": "code",
   "execution_count": null,
   "id": "b5e92c02-7d69-441a-9dab-e1e364f4cd11",
   "metadata": {},
   "outputs": [],
   "source": [
    "national_analysis.aggregate_yearly_estimated_generation(with_percentage=False)\n",
    "national_analysis.aggregate_yearly_estimated_generation_with_operation_start(with_percentage=False)\n",
    "national_analysis.aggregate_yearly_estimated_generation_per_hp()\n",
    "national_analysis.aggregate_yearly_estimated_generation_per_hp(reference_period=slice(\"1991\", \"2020\"))"
   ]
  },
  {
   "cell_type": "code",
   "execution_count": null,
   "id": "891a34d3-c3c3-4fb4-89c3-388e4ff0916b",
   "metadata": {},
   "outputs": [],
   "source": [
    "national_analysis.aggregate_seasonal_estimated_generation(with_operation_start=False)\n",
    "national_analysis.aggregate_seasonal_estimated_generation(with_operation_start=True)\n",
    "national_analysis.aggregate_seasonal_estimated_generation(with_operation_start=False, per_hydropower=True)\n",
    "national_analysis.aggregate_reference_seasonal_estimated_generation()"
   ]
  },
  {
   "cell_type": "markdown",
   "id": "5a4ed7a2-5aed-4815-9893-969aab41783e",
   "metadata": {},
   "source": [
    "# Paper plots"
   ]
  },
  {
   "cell_type": "markdown",
   "id": "dfda2f13-ebd7-47ed-b9de-f39fe64cc622",
   "metadata": {},
   "source": [
    "## Fig 2"
   ]
  },
  {
   "cell_type": "code",
   "execution_count": null,
   "id": "c05e7ab2-a263-4eb2-8c92-9861bf0571ee",
   "metadata": {},
   "outputs": [],
   "source": [
    "plot_pre_post_bias_correction_validation(\n",
    "    national_analysis_pre_correction,\n",
    "    national_analysis,\n",
    "    with_percentage=False, \n",
    "    yearly_column_to_plot=\"Estimated Generation No Beta\",\n",
    "    winter_column_to_plot=\"Estimated Generation No Beta Winter\",\n",
    "    summer_column_to_plot=\"Estimated Generation No Beta Summer\",\n",
    "    subplots_titles=[\"Yearly\", \n",
    "                     \"Winter\", \n",
    "                     \"Summer\"], \n",
    "    save=True, \n",
    "    output_filename=\"fig_2.pdf\",\n",
    "    file_format=\"pdf\"\n",
    ")"
   ]
  },
  {
   "cell_type": "markdown",
   "id": "32e28938-3fa3-4a53-8506-2e3d27fb873b",
   "metadata": {},
   "source": [
    "## Fig 3"
   ]
  },
  {
   "cell_type": "code",
   "execution_count": null,
   "id": "c10b3e04-c115-4cff-9669-c2eff91a61b8",
   "metadata": {},
   "outputs": [],
   "source": [
    "national_analysis.plot_quantile_maps(yearly=True, \n",
    "                                     variable_name=\"hp_no_beta\",\n",
    "                                     save=True,\n",
    "                                     with_operation_start=True,\n",
    "                                     with_decade_visualization=True,\n",
    "                                     output_filename=\"fig_3.eps\",\n",
    "                                     file_format=\"eps\"\n",
    "                                    )"
   ]
  },
  {
   "cell_type": "markdown",
   "id": "84b99792-c7c2-4334-b698-05faf7943840",
   "metadata": {},
   "source": [
    "## Fig 4"
   ]
  },
  {
   "cell_type": "code",
   "execution_count": null,
   "id": "a3fb1a77-ffe3-4b79-bfa6-f35eba94a307",
   "metadata": {},
   "outputs": [],
   "source": [
    "national_analysis.plot_trend_analysis(\n",
    "        with_percentage=False, \n",
    "        yearly_column_to_plot=\"Estimated Generation No Beta\",\n",
    "        winter_column_to_plot=\"Estimated Generation No Beta Winter\",\n",
    "        summer_column_to_plot=\"Estimated Generation No Beta Summer\",\n",
    "        subplots_titles=[\"Yearly\", \"Winter\", \"Summer\"],\n",
    "        save=True,\n",
    "        output_filename=\"fig_4.pdf\",\n",
    "        file_format=\"pdf\"\n",
    "    )"
   ]
  },
  {
   "cell_type": "markdown",
   "id": "fd02ed17-7dd3-4fdb-ad7b-36eff94a7080",
   "metadata": {},
   "source": [
    "# Supplementary material"
   ]
  },
  {
   "cell_type": "markdown",
   "id": "028ef470-2aee-4fed-ba17-5c2801182167",
   "metadata": {},
   "source": [
    "## Sup Fig 1 - Run-of-river hydropower in Switzerland"
   ]
  },
  {
   "cell_type": "code",
   "execution_count": null,
   "id": "06cfe068-d75f-46fb-8f4b-5dcb72b707c6",
   "metadata": {},
   "outputs": [],
   "source": [
    "national_analysis.plot_ror_map_capacities_hist(save=True, output_filename=\"sup_fig_1.pdf\", file_format=\"pdf\")"
   ]
  },
  {
   "cell_type": "code",
   "execution_count": null,
   "id": "166c1918-3e1e-4b12-8608-939a41351d97",
   "metadata": {},
   "outputs": [],
   "source": [
    "ror_capacity_ch = national_analysis.gdf_hydropower_locations.loc[(national_analysis.gdf_hydropower_locations[\"WASTANumber\"].isin(\n",
    "            national_analysis.ds_hydropower_generation.hydropower.values\n",
    "            )), \"Capacity\"].sum()\n",
    "\n",
    "print(f\"The capacity of RoR hydropower in Switzerland is currently {ror_capacity_ch} GW\")"
   ]
  },
  {
   "cell_type": "code",
   "execution_count": null,
   "id": "870b60a7-cec1-4872-8d81-449343cd9144",
   "metadata": {},
   "outputs": [],
   "source": [
    "national_analysis.gdf_hydropower_locations.loc[(national_analysis.gdf_hydropower_locations[\"WASTANumber\"].isin(\n",
    "            national_analysis.ds_hydropower_generation.hydropower.values\n",
    "            )), \"Capacity\"].describe()"
   ]
  },
  {
   "cell_type": "code",
   "execution_count": null,
   "id": "98b3d850-7c23-41ea-87e1-454745bbd07f",
   "metadata": {},
   "outputs": [],
   "source": [
    "ror_capacity_90th_percentile = national_analysis.gdf_hydropower_locations.loc[(national_analysis.gdf_hydropower_locations[\"WASTANumber\"].isin(\n",
    "            national_analysis.ds_hydropower_generation.hydropower.values\n",
    "            )), \"Capacity\"].quantile(0.9)\n",
    "\n",
    "ror_capacity_fraction_90th_percentile_and_above = national_analysis.gdf_hydropower_locations.loc[(national_analysis.gdf_hydropower_locations[\"WASTANumber\"].isin(\n",
    "            national_analysis.ds_hydropower_generation.hydropower.values\n",
    "            )) & (national_analysis.gdf_hydropower_locations[\"Capacity\"] >= ror_capacity_90th_percentile), \"Capacity\"].sum()/ror_capacity_ch\n",
    "\n",
    "print(f\"The RoR hydropower plants in Switzerland with capacities equal or above the 90th percentile constitute {round(ror_capacity_fraction_90th_percentile_and_above * 100, 2)}% of the total RoR capacity\")"
   ]
  },
  {
   "cell_type": "markdown",
   "id": "25bcf982-3f35-47cd-bbd5-8946fa4a6302",
   "metadata": {},
   "source": [
    "## Sup Fig 2 - RoR hydropower high production years"
   ]
  },
  {
   "cell_type": "markdown",
   "id": "f2590dd6-ee71-4ddb-b8ba-b375b874d468",
   "metadata": {},
   "source": [
    "The **total number of high production years of hydropower plants (quantile >= 0.9) per decade** is decreasing, even with an expanding infrastructure."
   ]
  },
  {
   "cell_type": "code",
   "execution_count": null,
   "id": "9c81cdb3-8734-41ea-a623-059b2dfb2d7b",
   "metadata": {},
   "outputs": [],
   "source": [
    "national_analysis.plot_hist_prod_quantile_threshold_per_decade(yearly=True, \n",
    "                                                               variable_name=\"hp_no_beta\",\n",
    "                                                               quantile_threshold=0.9,\n",
    "                                                               higher_than=True,\n",
    "                                                               with_operation_start=True,\n",
    "                                                               output_filename=\"sup_fig_2.pdf\",\n",
    "                                                               save=True,\n",
    "                                                               file_format=\"pdf\")"
   ]
  },
  {
   "cell_type": "markdown",
   "id": "a7e1ec60-0416-46b9-897e-9ed71a164fff",
   "metadata": {},
   "source": [
    "## Sup Fig 3 & 4 - RoR hydropower generation trends"
   ]
  },
  {
   "cell_type": "code",
   "execution_count": null,
   "id": "5c4ea2a4-dfd8-4d3b-a84f-49246618e907",
   "metadata": {},
   "outputs": [],
   "source": [
    "national_analysis.plot_trend_analysis_per_month(variable_name=\"hp_no_beta\", save=True, output_filename=\"sup_fig_3.pdf\", file_format=\"pdf\")"
   ]
  },
  {
   "cell_type": "code",
   "execution_count": null,
   "id": "cf0b503f-4599-4f2d-bb31-825d4030ffcf",
   "metadata": {},
   "outputs": [],
   "source": [
    "national_analysis.plot_winter_trend_map_and_distribution(variable_name=\"hp_no_beta_winter\", save=True, output_filename=\"sup_fig_4.pdf\", file_format=\"pdf\")"
   ]
  },
  {
   "cell_type": "code",
   "execution_count": null,
   "id": "f2843ecb-49dd-49fd-a7e8-8e2940bf3b07",
   "metadata": {},
   "outputs": [],
   "source": []
  }
 ],
 "metadata": {
  "kernelspec": {
   "display_name": "Python (iacpy3_2023)",
   "language": "python",
   "name": "iacpy3_2023"
  },
  "language_info": {
   "codemirror_mode": {
    "name": "ipython",
    "version": 3
   },
   "file_extension": ".py",
   "mimetype": "text/x-python",
   "name": "python",
   "nbconvert_exporter": "python",
   "pygments_lexer": "ipython3",
   "version": "3.11.4"
  }
 },
 "nbformat": 4,
 "nbformat_minor": 5
}
